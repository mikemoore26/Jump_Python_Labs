{
 "cells": [
  {
   "cell_type": "markdown",
   "metadata": {},
   "source": [
    "### what is Exception?\n",
    "\n",
    "### When python  is  running code and encounter some error, it stops the  code  running  and  sends  back an  object with a <i>description</i> of what went wrong and the traceback on where it occured.\n",
    "\n",
    "## There are many Exceptions out there just to name a few there are....\n",
    "- StopIteration\n",
    "- AttributeError\n",
    "- LookupError\n",
    "- IndexError\n",
    "- TypeError\n",
    "- SyntaxError\n",
    "- FileNotFoundError\n",
    "- NameError\n",
    "- etc....."
   ]
  },
  {
   "cell_type": "code",
   "execution_count": 59,
   "metadata": {},
   "outputs": [],
   "source": [
    "li = [i for i in range(10)]\n",
    "def funct1():\n",
    "    for i in li:\n",
    "        print(i)\n",
    "        \n",
    "def funct2():\n",
    "    for i in li:\n",
    "        yield i"
   ]
  },
  {
   "cell_type": "code",
   "execution_count": 61,
   "metadata": {},
   "outputs": [
    {
     "ename": "TypeError",
     "evalue": "'set' object is not subscriptable",
     "output_type": "error",
     "traceback": [
      "\u001b[0;31m---------------------------------------------------------------------------\u001b[0m",
      "\u001b[0;31mTypeError\u001b[0m                                 Traceback (most recent call last)",
      "\u001b[0;32m<ipython-input-61-b05e1cb0371c>\u001b[0m in \u001b[0;36m<module>\u001b[0;34m\u001b[0m\n\u001b[1;32m      1\u001b[0m \u001b[0ma\u001b[0m \u001b[0;34m=\u001b[0m \u001b[0mset\u001b[0m\u001b[0;34m(\u001b[0m\u001b[0mli\u001b[0m\u001b[0;34m)\u001b[0m\u001b[0;34m\u001b[0m\u001b[0;34m\u001b[0m\u001b[0m\n\u001b[0;32m----> 2\u001b[0;31m \u001b[0ma\u001b[0m\u001b[0;34m[\u001b[0m\u001b[0;36m0\u001b[0m\u001b[0;34m]\u001b[0m\u001b[0;34m\u001b[0m\u001b[0;34m\u001b[0m\u001b[0m\n\u001b[0m",
      "\u001b[0;31mTypeError\u001b[0m: 'set' object is not subscriptable"
     ]
    }
   ],
   "source": [
    "a = set(li)\n",
    "a[0]"
   ]
  },
  {
   "cell_type": "code",
   "execution_count": null,
   "metadata": {},
   "outputs": [],
   "source": []
  },
  {
   "cell_type": "markdown",
   "metadata": {},
   "source": [
    "## Examples"
   ]
  },
  {
   "cell_type": "markdown",
   "metadata": {},
   "source": [
    "### imagine you have a program that prints a number from 0 to 2 every second. Would there be any errors?"
   ]
  },
  {
   "cell_type": "code",
   "execution_count": 1,
   "metadata": {},
   "outputs": [],
   "source": [
    "import random\n",
    "import time\n",
    "\n",
    "def mike_example1():\n",
    "    for i in range(10):\n",
    "        test_num = random.randint(0,3)\n",
    "        print('{} : {}'.format(i+1,test_num))\n",
    "        time.sleep(1)"
   ]
  },
  {
   "cell_type": "code",
   "execution_count": 2,
   "metadata": {},
   "outputs": [
    {
     "name": "stdout",
     "output_type": "stream",
     "text": [
      "1 : 3\n",
      "2 : 2\n",
      "3 : 3\n",
      "4 : 2\n",
      "5 : 0\n",
      "6 : 0\n",
      "7 : 0\n",
      "8 : 1\n",
      "9 : 0\n",
      "10 : 1\n"
     ]
    }
   ],
   "source": [
    "mike_example1()\n",
    "\n"
   ]
  },
  {
   "cell_type": "markdown",
   "metadata": {},
   "source": [
    "### Now what if we want to upgrade this program so that it divide 26(rand_num) by every produce numbers. Would there be any errors?"
   ]
  },
  {
   "cell_type": "code",
   "execution_count": 3,
   "metadata": {},
   "outputs": [],
   "source": [
    "import random\n",
    "import time\n",
    "\n",
    "def mike_example2():\n",
    "    CONST_NUM = 26 \n",
    "    for i in range(10):\n",
    "        rand_num = random.randint(0,3)\n",
    "        tar_num = CONST_NUM / rand_num\n",
    "        print('{} : rand_num: {} : {}'.format(i+1,rand_num,tar_num))\n",
    "        time.sleep(1)"
   ]
  },
  {
   "cell_type": "code",
   "execution_count": 4,
   "metadata": {},
   "outputs": [
    {
     "name": "stdout",
     "output_type": "stream",
     "text": [
      "1 : rand_num: 1 : 26.0\n"
     ]
    },
    {
     "ename": "ZeroDivisionError",
     "evalue": "division by zero",
     "output_type": "error",
     "traceback": [
      "\u001b[0;31m---------------------------------------------------------------------------\u001b[0m",
      "\u001b[0;31mZeroDivisionError\u001b[0m                         Traceback (most recent call last)",
      "\u001b[0;32m<ipython-input-4-517c1d4d4ebd>\u001b[0m in \u001b[0;36m<module>\u001b[0;34m\u001b[0m\n\u001b[0;32m----> 1\u001b[0;31m \u001b[0mmike_example2\u001b[0m\u001b[0;34m(\u001b[0m\u001b[0;34m)\u001b[0m\u001b[0;34m\u001b[0m\u001b[0;34m\u001b[0m\u001b[0m\n\u001b[0m",
      "\u001b[0;32m<ipython-input-3-0dc3cd8f5629>\u001b[0m in \u001b[0;36mmike_example2\u001b[0;34m()\u001b[0m\n\u001b[1;32m      6\u001b[0m     \u001b[0;32mfor\u001b[0m \u001b[0mi\u001b[0m \u001b[0;32min\u001b[0m \u001b[0mrange\u001b[0m\u001b[0;34m(\u001b[0m\u001b[0;36m10\u001b[0m\u001b[0;34m)\u001b[0m\u001b[0;34m:\u001b[0m\u001b[0;34m\u001b[0m\u001b[0;34m\u001b[0m\u001b[0m\n\u001b[1;32m      7\u001b[0m         \u001b[0mrand_num\u001b[0m \u001b[0;34m=\u001b[0m \u001b[0mrandom\u001b[0m\u001b[0;34m.\u001b[0m\u001b[0mrandint\u001b[0m\u001b[0;34m(\u001b[0m\u001b[0;36m0\u001b[0m\u001b[0;34m,\u001b[0m\u001b[0;36m3\u001b[0m\u001b[0;34m)\u001b[0m\u001b[0;34m\u001b[0m\u001b[0;34m\u001b[0m\u001b[0m\n\u001b[0;32m----> 8\u001b[0;31m         \u001b[0mtar_num\u001b[0m \u001b[0;34m=\u001b[0m \u001b[0mCONST_NUM\u001b[0m \u001b[0;34m/\u001b[0m \u001b[0mrand_num\u001b[0m\u001b[0;34m\u001b[0m\u001b[0;34m\u001b[0m\u001b[0m\n\u001b[0m\u001b[1;32m      9\u001b[0m         \u001b[0mprint\u001b[0m\u001b[0;34m(\u001b[0m\u001b[0;34m'{} : rand_num: {} : {}'\u001b[0m\u001b[0;34m.\u001b[0m\u001b[0mformat\u001b[0m\u001b[0;34m(\u001b[0m\u001b[0mi\u001b[0m\u001b[0;34m+\u001b[0m\u001b[0;36m1\u001b[0m\u001b[0;34m,\u001b[0m\u001b[0mrand_num\u001b[0m\u001b[0;34m,\u001b[0m\u001b[0mtar_num\u001b[0m\u001b[0;34m)\u001b[0m\u001b[0;34m)\u001b[0m\u001b[0;34m\u001b[0m\u001b[0;34m\u001b[0m\u001b[0m\n\u001b[1;32m     10\u001b[0m         \u001b[0mtime\u001b[0m\u001b[0;34m.\u001b[0m\u001b[0msleep\u001b[0m\u001b[0;34m(\u001b[0m\u001b[0;36m1\u001b[0m\u001b[0;34m)\u001b[0m\u001b[0;34m\u001b[0m\u001b[0;34m\u001b[0m\u001b[0m\n",
      "\u001b[0;31mZeroDivisionError\u001b[0m: division by zero"
     ]
    }
   ],
   "source": [
    "mike_example2()"
   ]
  },
  {
   "cell_type": "markdown",
   "metadata": {},
   "source": [
    "#### see that? the program stopped even though it was not. finished. \n",
    "\n",
    "#### so how. do we. keep. the. program going? we need the help of....\n",
    "## EXCEPTION HANDLING\n",
    "\n",
    "### we are going to edit this program so that if there. is another error the program will know what to do?"
   ]
  },
  {
   "cell_type": "code",
   "execution_count": 5,
   "metadata": {},
   "outputs": [],
   "source": [
    "import random\n",
    "import time\n",
    "err_obj = None\n",
    "\n",
    "def mike_example3():\n",
    "    CONST_NUM = 26 \n",
    "    global err_obj\n",
    "    for i in range(10):\n",
    "        rand_num = random.randint(0,3)\n",
    "        try:\n",
    "            target_num = CONST_NUM / rand_num\n",
    "        except ZeroDivisionError as e:\n",
    "            print('{} : rand_num {} : {}'.format(i+1, rand_num, 'Error, rand_num == 0'))\n",
    "            err_obj = e\n",
    "            print(err_obj)\n",
    "            #raise\n",
    "        else:\n",
    "            print('{} : rand_num {} : {}'.format(i+1,rand_num, target_num))\n",
    "        finally:\n",
    "            time.sleep(1)"
   ]
  },
  {
   "cell_type": "code",
   "execution_count": 6,
   "metadata": {},
   "outputs": [
    {
     "name": "stdout",
     "output_type": "stream",
     "text": [
      "1 : rand_num 3 : 8.666666666666666\n",
      "2 : rand_num 2 : 13.0\n",
      "3 : rand_num 2 : 13.0\n",
      "4 : rand_num 2 : 13.0\n",
      "5 : rand_num 2 : 13.0\n",
      "6 : rand_num 2 : 13.0\n",
      "7 : rand_num 3 : 8.666666666666666\n",
      "8 : rand_num 0 : Error, rand_num == 0\n",
      "division by zero\n",
      "9 : rand_num 2 : 13.0\n",
      "10 : rand_num 1 : 26.0\n"
     ]
    }
   ],
   "source": [
    "mike_example3()"
   ]
  },
  {
   "cell_type": "code",
   "execution_count": null,
   "metadata": {},
   "outputs": [],
   "source": [
    "#### lets explore the err obj"
   ]
  },
  {
   "cell_type": "code",
   "execution_count": 7,
   "metadata": {},
   "outputs": [
    {
     "name": "stdout",
     "output_type": "stream",
     "text": [
      "<class 'ZeroDivisionError'>\n",
      "Help on ZeroDivisionError object:\n",
      "\n",
      "class ZeroDivisionError(ArithmeticError)\n",
      " |  Second argument to a division or modulo operation was zero.\n",
      " |  \n",
      " |  Method resolution order:\n",
      " |      ZeroDivisionError\n",
      " |      ArithmeticError\n",
      " |      Exception\n",
      " |      BaseException\n",
      " |      object\n",
      " |  \n",
      " |  Methods defined here:\n",
      " |  \n",
      " |  __init__(self, /, *args, **kwargs)\n",
      " |      Initialize self.  See help(type(self)) for accurate signature.\n",
      " |  \n",
      " |  ----------------------------------------------------------------------\n",
      " |  Static methods defined here:\n",
      " |  \n",
      " |  __new__(*args, **kwargs) from builtins.type\n",
      " |      Create and return a new object.  See help(type) for accurate signature.\n",
      " |  \n",
      " |  ----------------------------------------------------------------------\n",
      " |  Methods inherited from BaseException:\n",
      " |  \n",
      " |  __delattr__(self, name, /)\n",
      " |      Implement delattr(self, name).\n",
      " |  \n",
      " |  __getattribute__(self, name, /)\n",
      " |      Return getattr(self, name).\n",
      " |  \n",
      " |  __reduce__(...)\n",
      " |      Helper for pickle.\n",
      " |  \n",
      " |  __repr__(self, /)\n",
      " |      Return repr(self).\n",
      " |  \n",
      " |  __setattr__(self, name, value, /)\n",
      " |      Implement setattr(self, name, value).\n",
      " |  \n",
      " |  __setstate__(...)\n",
      " |  \n",
      " |  __str__(self, /)\n",
      " |      Return str(self).\n",
      " |  \n",
      " |  with_traceback(...)\n",
      " |      Exception.with_traceback(tb) --\n",
      " |      set self.__traceback__ to tb and return self.\n",
      " |  \n",
      " |  ----------------------------------------------------------------------\n",
      " |  Data descriptors inherited from BaseException:\n",
      " |  \n",
      " |  __cause__\n",
      " |      exception cause\n",
      " |  \n",
      " |  __context__\n",
      " |      exception context\n",
      " |  \n",
      " |  __dict__\n",
      " |  \n",
      " |  __suppress_context__\n",
      " |  \n",
      " |  __traceback__\n",
      " |  \n",
      " |  args\n",
      "\n"
     ]
    }
   ],
   "source": [
    "print(type(err_obj))\n",
    "help(err_obj)"
   ]
  },
  {
   "cell_type": "markdown",
   "metadata": {},
   "source": [
    "#### Additional Notes\n",
    "-  you can have any number. of exceptions. in your code\n",
    "-  You can have a default Exception \n",
    "-  you can even make your own exception as long as the class inheriate from the Exception Class"
   ]
  },
  {
   "cell_type": "code",
   "execution_count": 10,
   "metadata": {},
   "outputs": [],
   "source": [
    "class no_more_ones_Error(Exception):\n",
    "    pass"
   ]
  },
  {
   "cell_type": "code",
   "execution_count": 11,
   "metadata": {},
   "outputs": [],
   "source": [
    "import random\n",
    "import time\n",
    "\n",
    "def mike_example4():\n",
    "    CONST_NUM = 26 \n",
    "    for i in range(11):\n",
    "        try:\n",
    "            if i == 10:\n",
    "                rand_num = \"str thats suppose to be an int\"\n",
    "            if rand_num == 1:\n",
    "                raise no_more_ones_Error\n",
    "            target_num = CONST_NUM / rand_num\n",
    "        \n",
    "        except ZeroDivisionError:\n",
    "            print('{} : {}'.format(i+1,'Error, rand_num == 0'))\n",
    "            #raise\n",
    "        except UnboundLocalError:\n",
    "             print('{} : {}'.format(i+1,'Error, rand_num was not generated yet'))\n",
    "        except no_more_ones_Error:\n",
    "            print('{} : rand_num {} : {}'.format(i+1,rand_num,'Ahh No More Ones'))\n",
    "        except Exception:\n",
    "            print('{} : {}'.format(i+1 ,rand_num))\n",
    "        else:\n",
    "            print('{} : rand_num {} : {}'.format(i+1,rand_num, target_num))\n",
    "        finally:\n",
    "            time.sleep(1)\n",
    "            \n",
    "        rand_num = random.randint(0,3)\n"
   ]
  },
  {
   "cell_type": "code",
   "execution_count": 12,
   "metadata": {},
   "outputs": [
    {
     "name": "stdout",
     "output_type": "stream",
     "text": [
      "1 : Error, rand_num was not generated yet\n",
      "2 : rand_num 2 : 13.0\n",
      "3 : rand_num 1 : Ahh No More Ones\n",
      "4 : rand_num 2 : 13.0\n",
      "5 : rand_num 2 : 13.0\n",
      "6 : rand_num 3 : 8.666666666666666\n",
      "7 : rand_num 1 : Ahh No More Ones\n",
      "8 : rand_num 1 : Ahh No More Ones\n",
      "9 : rand_num 2 : 13.0\n",
      "10 : rand_num 1 : Ahh No More Ones\n",
      "11 : str thats suppose to be an int\n"
     ]
    }
   ],
   "source": [
    "mike_example4()"
   ]
  },
  {
   "cell_type": "code",
   "execution_count": null,
   "metadata": {},
   "outputs": [],
   "source": []
  },
  {
   "cell_type": "code",
   "execution_count": null,
   "metadata": {},
   "outputs": [],
   "source": [
    "import random\n",
    "import time\n",
    "\n",
    "def mike_example4():\n",
    "    CONST_NUM = 26 \n",
    "    for i in range(11):\n",
    "        try:\n",
    "            if i == 10:\n",
    "                rand_num = \"str thats suppose to be an int\"\n",
    "            if rand_num == 1:\n",
    "                raise no_more_ones_Error\n",
    "            target_num = CONST_NUM / rand_num\n",
    "        \n",
    "        except ZeroDivisionError:\n",
    "            print('{} : {}'.format(i+1,'Error, rand_num == 0'))\n",
    "            #raise\n",
    "        except UnboundLocalError:\n",
    "             print('{} : {}'.format(i+1,'Error, rand_num was not generated yet'))\n",
    "        except no_more_ones_Error:\n",
    "            print('{} : rand_num {} : {}'.format(i+1,rand_num,'Ahh No More Ones'))\n",
    "        except Exception:\n",
    "            print('{} : {}'.format(i+1 ,rand_num))\n",
    "        else:\n",
    "            print('{} : rand_num {} : {}'.format(i+1,rand_num, target_num))\n",
    "        finally:\n",
    "            time.sleep(1)\n",
    "            \n",
    "        rand_num = random.randint(0,3)\n"
   ]
  },
  {
   "cell_type": "code",
   "execution_count": null,
   "metadata": {},
   "outputs": [],
   "source": [
    "mike_example5()"
   ]
  },
  {
   "cell_type": "code",
   "execution_count": null,
   "metadata": {},
   "outputs": [],
   "source": []
  },
  {
   "cell_type": "markdown",
   "metadata": {},
   "source": [
    "## Key Points\n",
    "- try keyword lets the program know the code coming up can fail\n",
    "- except keyworld lets the program know what to do if the code tries to crash\n",
    "- else in a try\n",
    "    - else runs if and only if thr try is successful\n",
    "- custom exceptions can be made if you inherite from the Exception class\n",
    "\n",
    "\n",
    "### In conclusion Exception Handling is very important in the programming world. in the real world ig the programming stops and  the errors are unhandled you can cost company a lot of resources just to get back up to date\n",
    "\n",
    "#### as Bengamen Franklin Once said \"If you fail to plan you are planning to fail\""
   ]
  },
  {
   "cell_type": "code",
   "execution_count": null,
   "metadata": {},
   "outputs": [],
   "source": []
  }
 ],
 "metadata": {
  "kernelspec": {
   "display_name": "Python 3",
   "language": "python",
   "name": "python3"
  },
  "language_info": {
   "codemirror_mode": {
    "name": "ipython",
    "version": 3
   },
   "file_extension": ".py",
   "mimetype": "text/x-python",
   "name": "python",
   "nbconvert_exporter": "python",
   "pygments_lexer": "ipython3",
   "version": "3.9.0"
  }
 },
 "nbformat": 4,
 "nbformat_minor": 4
}
