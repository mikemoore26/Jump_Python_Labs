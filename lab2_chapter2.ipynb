{
 "cells": [
  {
   "cell_type": "markdown",
   "metadata": {},
   "source": [
    "# LAB 2 Chapter 2 Strings\n",
    "\n",
    "Almost every useful program involves some kind of text processing, whether it is parsing\n",
    "data or generating output. This chapter focuses on common problems involving text\n",
    "manipulation, such as pulling apart strings, searching, substitution, lexing, and parsing.\n",
    "Many of these tasks can be easily solved using built-in methods of strings. However,\n",
    "more complicated operations might require the use of regular expressions or the cre‐\n",
    "ation of a full-fledged parser. All of these topics are covered. In addition, a few tricky\n",
    "aspects of working with Unicode are addressed."
   ]
  },
  {
   "cell_type": "markdown",
   "metadata": {},
   "source": [
    "#### 2.1 problem\n",
    "You need to split a string into fields, but the delimiters (and spacing around them) aren’t\n",
    "consistent throughout the string.\n",
    "\n",
    "- split only takes 1 delimitor\n",
    "- re split helps more because you cn have a pattern \n",
    "- using () in a re.split make a capture group which will be included in the reasults of the split\n",
    "- non capture group uses (?:....) "
   ]
  },
  {
   "cell_type": "code",
   "execution_count": 24,
   "metadata": {},
   "outputs": [
    {
     "name": "stdout",
     "output_type": "stream",
     "text": [
      "['asdf', 'fjdk', 'afed', 'fjek', 'asdf', 'foo', 'mike)', 'moore(']\n",
      "********************\n",
      "fielda:  ['asdf', ' ', 'fjdk', ';', 'afed', ',', 'fjek', ',', 'asdf', ',', 'foo', ' ', 'mike)', ' ', 'moore(']\n",
      "values:  ['asdf', 'fjdk', 'afed', 'fjek', 'asdf', 'foo', 'mike)', 'moore(']\n",
      "delimitera:  [' ', ';', ',', ',', ',', ' ', ' ', '']\n"
     ]
    }
   ],
   "source": [
    "import re\n",
    "line = 'asdf fjdk; afed, fjek,asdf, foo mike) moore('\n",
    "print(re.split(r'[;,\\s]\\s*', line))\n",
    "fields = re.split(r'(;|,|\\s)\\s*', line)\n",
    "print('*'*20)\n",
    "print('fielda: ', fields)\n",
    "values = fields[::2]\n",
    "delimiters = fields[1::2] + ['']\n",
    "\n",
    "print('values: ',values)\n",
    "print('delimitera: ',delimiters)\n",
    "\n"
   ]
  },
  {
   "cell_type": "markdown",
   "metadata": {},
   "source": [
    "#### 2.2 problem \n",
    "You need to check the start or end of a string for specific text patterns, such as filename extensions, URL schemes, and so on.\n",
    "\n",
    "- str.start_with\n",
    "- str.end_with\n",
    "- both methods take in a tuple, a list will throw an error"
   ]
  },
  {
   "cell_type": "code",
   "execution_count": 31,
   "metadata": {},
   "outputs": [
    {
     "name": "stdout",
     "output_type": "stream",
     "text": [
      "True True\n"
     ]
    }
   ],
   "source": [
    "name = 'Michael'\n",
    "print(name.startswith('Mic'), name.endswith('ael'))"
   ]
  },
  {
   "cell_type": "markdown",
   "metadata": {},
   "source": [
    "#### 2.3 Problem\n",
    "You want to match text using the same wildcard patterns as are commonly used when\n",
    "working in Unix shells (e.g., *.py, Dat[0-9]*.csv, etc.).\n",
    "\n",
    "- fnmatch import fnmatch, fnmatchcase\n"
   ]
  },
  {
   "cell_type": "code",
   "execution_count": 51,
   "metadata": {},
   "outputs": [
    {
     "name": "stdout",
     "output_type": "stream",
     "text": [
      "False\n",
      "False\n"
     ]
    }
   ],
   "source": [
    "from fnmatch import fnmatch, fnmatchcase\n",
    "# on windows True\n",
    "print(fnmatch('foo.txt', '*.TXT'))\n",
    "print(fnmatchcase('foo.txt', '*.TXT'))"
   ]
  },
  {
   "cell_type": "markdown",
   "metadata": {},
   "source": [
    "#### 2.4 Problem\n",
    "You want to match or search text for a specific pattern.\n",
    "- simple literal, \n",
    "    - str.find(), str.endswith(), str.startswith(),\n",
    "- use re ( regular expression) to do more complicated things\n",
    "    - d+ one or more digit\n",
    "    - one or more\n",
    "    - $ if you want the exact match\n",
    "    \n",
    "- better to precompile a re if its going to be matched multiple times\n",
    "    - match capture the first match\n",
    "    - use findall to get all matches\n",
    "- using match can help seperate the group that match\n",
    "- better to use raw strings\n",
    "    "
   ]
  },
  {
   "cell_type": "code",
   "execution_count": 38,
   "metadata": {},
   "outputs": [
    {
     "name": "stdout",
     "output_type": "stream",
     "text": [
      "<class 're.Match'>\n",
      "<re.Match object; span=(0, 10), match='11/27/2012'>\n",
      "group():  11/27/2012\n",
      "group(0):  11/27/2012\n",
      "group(1):  11\n",
      "group(2):  27\n",
      "group(3):  2012\n",
      "groups:  ('11', '27', '2012')\n"
     ]
    },
    {
     "data": {
      "text/plain": [
       "[('11', '27', '2012'), ('3', '13', '2013')]"
      ]
     },
     "execution_count": 38,
     "metadata": {},
     "output_type": "execute_result"
    }
   ],
   "source": [
    "datepat = re.compile(r'(\\d+)/(\\d+)/(\\d+)')\n",
    "m = datepat.match('11/27/2012')\n",
    "print(type(m))\n",
    "print(m)\n",
    "print('group(): ',m.group())\n",
    "print('group(0): ',m.group(0))\n",
    "print('group(1): ',m.group(1))\n",
    "print('group(2): ',m.group(2))\n",
    "print('group(3): ',m.group(3))\n",
    "print('groups: ',m.groups())\n",
    "\n",
    "text = 'Today is 11/27/2012. PyCon starts 3/13/2013.'\n",
    "datepat.findall(text)"
   ]
  },
  {
   "cell_type": "markdown",
   "metadata": {},
   "source": [
    "### Problem 2.5\n",
    "You want to search for and replace a text pattern in a string.\n",
    "\n",
    "- str.replace\n",
    "- for more complicated numbers use sub from the re module \n",
    "- \\3 <- the 3 represent the capture group"
   ]
  },
  {
   "cell_type": "code",
   "execution_count": 43,
   "metadata": {},
   "outputs": [
    {
     "name": "stdout",
     "output_type": "stream",
     "text": [
      "yeah, but na, but yeah, but na, but yeah\n",
      "text Today is 11/27/2012. PyCon starts 3/13/2013.\n",
      "text re sub: Today is 2012-11-27. PyCon starts 2013-3-13.\n"
     ]
    }
   ],
   "source": [
    "text = 'yeah, but no, but yeah, but no, but yeah'\n",
    "print(text.replace('no', 'na'))\n",
    "text = 'Today is 11/27/2012. PyCon starts 3/13/2013.'\n",
    "print('text',text)\n",
    "print('text re sub:',re.sub(r'(\\d+)/(\\d+)/(\\d+)', r'\\3-\\1-\\2', text))\n"
   ]
  },
  {
   "cell_type": "markdown",
   "metadata": {},
   "source": [
    "#### Problem 2.6 \n",
    "You need to search for and possibly replace text in a case-insensitive manner.\n",
    "\n",
    "- re.IGNORECASE flag\n",
    "    - re.sub('python', 'snake', text, flags=re.IGNORECASE)"
   ]
  },
  {
   "cell_type": "code",
   "execution_count": null,
   "metadata": {},
   "outputs": [],
   "source": []
  },
  {
   "cell_type": "markdown",
   "metadata": {},
   "source": [
    "#### 2.7 problem\n",
    "You’re trying to match a text pattern using regular expressions, but it is identifying the longest possible matches of a pattern. Instead, you would like to change it to find the shortest possible match.\n",
    "\n",
    "- re ? - matches 0 or 1 occuance\n",
    "-    . - matches any character except \\n\n",
    "- noncapture group (i.e., it defines a group for the purposes of matching, but that group is not captured separately or numbered).\n",
    "-  re.DOTALL match all char including new lines"
   ]
  },
  {
   "cell_type": "markdown",
   "metadata": {},
   "source": [
    "#### 2.8 Problem\n",
    "You’re trying to match a block of text using a regular expression, but you need the match\n",
    "to span multiple lines."
   ]
  },
  {
   "cell_type": "code",
   "execution_count": 47,
   "metadata": {},
   "outputs": [
    {
     "name": "stdout",
     "output_type": "stream",
     "text": [
      "[' this is a comment ']\n",
      "[]\n",
      "[' this is a\\n... multiline comment ']\n"
     ]
    }
   ],
   "source": [
    " comment = re.compile(r'/\\*(.*?)\\*/')\n",
    "text1 = '/* this is a comment */'\n",
    "text2 = '''/* this is a\n",
    "... multiline comment */\n",
    "... '''\n",
    "\n",
    "print(comment.findall(text1))\n",
    "print(comment.findall(text2))\n",
    "comment = re.compile(r'/\\*((?:.|\\n)*?)\\*/')\n",
    "print(comment.findall(text2))"
   ]
  },
  {
   "cell_type": "markdown",
   "metadata": {},
   "source": [
    "#### 2.9 Problem\n",
    "You’re working with Unicode strings, but need to make sure that all of the strings have\n",
    "the same underlying representation."
   ]
  },
  {
   "cell_type": "code",
   "execution_count": null,
   "metadata": {},
   "outputs": [],
   "source": []
  }
 ],
 "metadata": {
  "kernelspec": {
   "display_name": "Python 3",
   "language": "python",
   "name": "python3"
  },
  "language_info": {
   "codemirror_mode": {
    "name": "ipython",
    "version": 3
   },
   "file_extension": ".py",
   "mimetype": "text/x-python",
   "name": "python",
   "nbconvert_exporter": "python",
   "pygments_lexer": "ipython3",
   "version": "3.9.0"
  }
 },
 "nbformat": 4,
 "nbformat_minor": 4
}
