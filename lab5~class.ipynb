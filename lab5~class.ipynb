{
 "cells": [
  {
   "cell_type": "markdown",
   "metadata": {},
   "source": [
    "# LAB 5 Chapter 8 ~Classes"
   ]
  },
  {
   "cell_type": "markdown",
   "metadata": {},
   "source": [
    "#### 8.1 str rep of classes\n",
    "\n",
    "- __str__\n",
    "- __repr__\n",
    "\n",
    "### 8.2 \n",
    "you want an object to support customized formatting\n",
    "- format is a. built. in method\n",
    "\n"
   ]
  },
  {
   "cell_type": "code",
   "execution_count": 4,
   "metadata": {},
   "outputs": [],
   "source": [
    "_formats = {\n",
    "        'ymd' : '{d.year}-{d.month}-{d.day}',\n",
    "        'mdy' : '{d.month}/{d.day}/{d.year}',\n",
    "        'dmy' : '{d.day}/{d.month}/{d.year}'\n",
    "        }\n",
    "\n",
    "class Date:\n",
    "    def __init__(self, year, month, day):\n",
    "        self.year = year\n",
    "        self.month = month\n",
    "        self.day = day\n",
    "        \n",
    "    def __format__(self, code): \n",
    "        if code == '':\n",
    "            code = 'ymd'\n",
    "            fmt = _formats[code] \n",
    "        return fmt.format(d=self)"
   ]
  },
  {
   "cell_type": "code",
   "execution_count": 5,
   "metadata": {},
   "outputs": [
    {
     "data": {
      "text/plain": [
       "'2012-12-21'"
      ]
     },
     "execution_count": 5,
     "metadata": {},
     "output_type": "execute_result"
    }
   ],
   "source": [
    "d = Date(2012, 12, 21) \n",
    "format(d)\n",
    "#format(d, 'mdy')"
   ]
  },
  {
   "cell_type": "markdown",
   "metadata": {},
   "source": [
    "#### 8.3\n",
    "Object Support the Context-Manager Protocol\n",
    "- with statement, you need to implement __enter__() and __exit__() methods"
   ]
  },
  {
   "cell_type": "code",
   "execution_count": 6,
   "metadata": {},
   "outputs": [],
   "source": [
    "from socket import socket, AF_INET, SOCK_STREAM\n",
    "class LazyConnection:\n",
    "    def __init__(self, address, family=AF_INET, type=SOCK_STREAM):\n",
    "            self.address = address\n",
    "            self.family = AF_INET\n",
    "            self.type = SOCK_STREAM\n",
    "            self.sock = None\n",
    "            \n",
    "    def __enter__(self):\n",
    "        if self.sock is not None:\n",
    "            raise RuntimeError('Already connected') \n",
    "        self.sock = socket(self.family, self.type) \n",
    "        self.sock.connect(self.address)\n",
    "        return self.sock\n",
    "    \n",
    "    def __exit__(self, exc_ty, exc_val, tb): \n",
    "        self.sock.close()\n",
    "        self.sock = None"
   ]
  },
  {
   "cell_type": "markdown",
   "metadata": {},
   "source": [
    "#### 8.4\n",
    "Saving memory while creating a large. amount of instances\n",
    "\n",
    "- class.__slots__\n",
    "- stores data in a fixed size array instead of a dictionary\n",
    "    - can not add new attr if using slots\n",
    "    - should avoid unless you are making a large amount of data\n"
   ]
  },
  {
   "cell_type": "code",
   "execution_count": 15,
   "metadata": {},
   "outputs": [],
   "source": [
    "class abc():\n",
    "    __slots__ = ['a','b','c']\n",
    "    def __init__(self,a,b,c):\n",
    "        self.a = a\n",
    "        self.b = b\n",
    "        self.c = c\n",
    "        \n",
    "class abc2():\n",
    "    def __init__(self,a,b,c):\n",
    "        self.a = a\n",
    "        self.b = b\n",
    "        self.c = c"
   ]
  },
  {
   "cell_type": "code",
   "execution_count": 16,
   "metadata": {},
   "outputs": [
    {
     "name": "stdout",
     "output_type": "stream",
     "text": [
      "56\n",
      "48\n"
     ]
    }
   ],
   "source": [
    "import sys\n",
    "print(sys.getsizeof(abc(1,2,3)))\n",
    "print(sys.getsizeof(abc2(1,2,3)))\n",
    "\n"
   ]
  },
  {
   "cell_type": "markdown",
   "metadata": {},
   "source": [
    "#### 8.5 encapsulating\n",
    "\n",
    "- a single underscore means internal( attr or method)\n",
    "    - does prevent you from using but its considered impolite\n",
    "- double undeescore means private and cannot be inherited from"
   ]
  },
  {
   "cell_type": "code",
   "execution_count": 28,
   "metadata": {},
   "outputs": [
    {
     "name": "stdout",
     "output_type": "stream",
     "text": [
      "s\n",
      "r\n",
      "s r\n",
      "s new\n"
     ]
    }
   ],
   "source": [
    "class a():\n",
    "    def __init__(self):\n",
    "        self._a = 's'\n",
    "        self.__b = 'r'\n",
    "        \n",
    "    def __str__(self):\n",
    "        return self._a + \" \" + self.__b\n",
    "        \n",
    "        \n",
    "a=a()\n",
    "print(a._a)\n",
    "print(a._a__b)\n",
    "print(a)\n",
    "a._a__b = 'new'\n",
    "print(a)"
   ]
  },
  {
   "cell_type": "markdown",
   "metadata": {},
   "source": [
    "#### 8.6. Creating Managed Attributes Problem\n",
    "You want to add extra processing (e.g., type checking or validation) to the getting or setting of an instance attribute.\n",
    "\n",
    "- add decorators \n",
    "    - @property sttr name - getter\n",
    "    - @attr.setter setter class\n",
    "    - @attr.deleter deleter"
   ]
  },
  {
   "cell_type": "code",
   "execution_count": 30,
   "metadata": {},
   "outputs": [],
   "source": [
    "class Person:\n",
    "    def __init__(self, first_name):\n",
    "        self.first_name = first_name\n",
    "        \n",
    "    # Getter function\n",
    "    @property\n",
    "    def first_name(self): \n",
    "        return self._first_name\n",
    "    \n",
    "    # Setter function\n",
    "    @first_name.setter\n",
    "    def first_name(self, value):\n",
    "        if not isinstance(value, str):\n",
    "            raise TypeError('Expected a string') \n",
    "        self._first_name = value\n",
    "            \n",
    "    # Deleter function (optional)\n",
    "    @first_name.deleter\n",
    "    def first_name(self):\n",
    "        raise AttributeError(\"Can't delete attribute\")"
   ]
  },
  {
   "cell_type": "code",
   "execution_count": 35,
   "metadata": {},
   "outputs": [
    {
     "name": "stdout",
     "output_type": "stream",
     "text": [
      "Michael\n"
     ]
    }
   ],
   "source": [
    "me = Person(\"Michael\")\n",
    "print(me.first_name)\n",
    "# me.first_name = 43\n",
    "# del me.first_name"
   ]
  },
  {
   "cell_type": "markdown",
   "metadata": {},
   "source": [
    "#### 8.7. Calling a Method on a Parent Class Problem\n",
    "You want to invoke a method in a parent class in place of a method that has been overridden in a subclass.\n",
    "super()\n",
    "- MRO Methoth resolution order "
   ]
  },
  {
   "cell_type": "code",
   "execution_count": null,
   "metadata": {},
   "outputs": [],
   "source": []
  }
 ],
 "metadata": {
  "kernelspec": {
   "display_name": "Python 3",
   "language": "python",
   "name": "python3"
  },
  "language_info": {
   "codemirror_mode": {
    "name": "ipython",
    "version": 3
   },
   "file_extension": ".py",
   "mimetype": "text/x-python",
   "name": "python",
   "nbconvert_exporter": "python",
   "pygments_lexer": "ipython3",
   "version": "3.9.0"
  }
 },
 "nbformat": 4,
 "nbformat_minor": 4
}
