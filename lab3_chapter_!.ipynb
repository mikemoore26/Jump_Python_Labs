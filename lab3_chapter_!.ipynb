{
 "cells": [
  {
   "cell_type": "markdown",
   "metadata": {},
   "source": [
    "# Statements Assessment Test\n"
   ]
  },
  {
   "cell_type": "code",
   "execution_count": 1,
   "metadata": {},
   "outputs": [
    {
     "name": "stdout",
     "output_type": "stream",
     "text": [
      "start\n",
      "s\n",
      "sentence\n"
     ]
    }
   ],
   "source": [
    "# Use for, .split(), and if to create a Statement that will print out words that start with 's':\n",
    "\n",
    "st = 'Print only the words that start with s in this sentence'\n",
    "\n",
    "for word in st.split():\n",
    "    if word[0] == 's':\n",
    "        print(word)\n"
   ]
  },
  {
   "cell_type": "code",
   "execution_count": 2,
   "metadata": {},
   "outputs": [
    {
     "name": "stdout",
     "output_type": "stream",
     "text": [
      "0\n",
      "2\n",
      "4\n",
      "6\n",
      "8\n"
     ]
    }
   ],
   "source": [
    "# Use range() to print all the even numbers from 0 to 10.\n",
    "\n",
    "for i in range(0,10,2):\n",
    "    print(i)\n"
   ]
  },
  {
   "cell_type": "code",
   "execution_count": 3,
   "metadata": {},
   "outputs": [
    {
     "name": "stdout",
     "output_type": "stream",
     "text": [
      "0\n",
      "3\n",
      "6\n",
      "9\n",
      "12\n",
      "15\n",
      "18\n",
      "21\n",
      "24\n",
      "27\n",
      "30\n",
      "33\n",
      "36\n",
      "39\n",
      "42\n",
      "45\n",
      "48\n"
     ]
    }
   ],
   "source": [
    "# Use a List Comprehension to create a list of all numbers between 1 and 50 that are divisible by 3.\n",
    "for i in range(0,51):\n",
    "    if i % 3 == 0:\n",
    "        print(i)\n"
   ]
  },
  {
   "cell_type": "code",
   "execution_count": 4,
   "metadata": {},
   "outputs": [
    {
     "name": "stdout",
     "output_type": "stream",
     "text": [
      "even!: word\n",
      "even!: in\n",
      "even!: this\n",
      "even!: sentence\n",
      "even!: that\n",
      "even!: an\n",
      "even!: even\n",
      "even!: number\n",
      "even!: of\n"
     ]
    }
   ],
   "source": [
    "# Go through the string below and if the length of a word is even print \"even!\"\n",
    "st = 'Print every word in this sentence that has an even number of letters'\n",
    "for word in st.split():\n",
    "    if len(word) % 2 == 0:\n",
    "        print(f'even!: {word}')\n"
   ]
  },
  {
   "cell_type": "code",
   "execution_count": 5,
   "metadata": {},
   "outputs": [
    {
     "name": "stdout",
     "output_type": "stream",
     "text": [
      "1\n",
      "2\n",
      "Buzz\n",
      "4\n",
      "Fizz\n",
      "Buzz\n",
      "7\n",
      "8\n",
      "Buzz\n",
      "Fizz\n",
      "11\n",
      "Buzz\n",
      "13\n",
      "14\n",
      "FizzBuzz\n",
      "16\n",
      "17\n",
      "Buzz\n",
      "19\n",
      "Fizz\n",
      "Buzz\n",
      "22\n",
      "23\n",
      "Buzz\n",
      "Fizz\n",
      "26\n",
      "Buzz\n",
      "28\n",
      "29\n",
      "FizzBuzz\n",
      "31\n",
      "32\n",
      "Buzz\n",
      "34\n",
      "Fizz\n",
      "Buzz\n",
      "37\n",
      "38\n",
      "Buzz\n",
      "Fizz\n",
      "41\n",
      "Buzz\n",
      "43\n",
      "44\n",
      "FizzBuzz\n",
      "46\n",
      "47\n",
      "Buzz\n",
      "49\n",
      "Fizz\n",
      "Buzz\n",
      "52\n",
      "53\n",
      "Buzz\n",
      "Fizz\n",
      "56\n",
      "Buzz\n",
      "58\n",
      "59\n",
      "FizzBuzz\n",
      "61\n",
      "62\n",
      "Buzz\n",
      "64\n",
      "Fizz\n",
      "Buzz\n",
      "67\n",
      "68\n",
      "Buzz\n",
      "Fizz\n",
      "71\n",
      "Buzz\n",
      "73\n",
      "74\n",
      "FizzBuzz\n",
      "76\n",
      "77\n",
      "Buzz\n",
      "79\n",
      "Fizz\n",
      "Buzz\n",
      "82\n",
      "83\n",
      "Buzz\n",
      "Fizz\n",
      "86\n",
      "Buzz\n",
      "88\n",
      "89\n",
      "FizzBuzz\n",
      "91\n",
      "92\n",
      "Buzz\n",
      "94\n",
      "Fizz\n",
      "Buzz\n",
      "97\n",
      "98\n",
      "Buzz\n",
      "Fizz\n"
     ]
    }
   ],
   "source": [
    "# Write a program that prints the integers from 1 to 100. But for multiples of three print \"Fizz\" \n",
    "# instead of the number, and for the multiples of five print \"Buzz\". \n",
    "# For numbers which are multiples of both three and five print \"FizzBuzz\".\n",
    "\n",
    "\n",
    "for i in range(1,101):\n",
    "    if i % 5 == 0 and i % 3 == 0:\n",
    "        print('FizzBuzz')\n",
    "    elif i % 5 == 0:\n",
    "        print('Fizz')\n",
    "    elif i % 3 == 0:\n",
    "        print('Buzz')\n",
    "    else:\n",
    "        print(i)\n",
    "\n"
   ]
  },
  {
   "cell_type": "code",
   "execution_count": 6,
   "metadata": {},
   "outputs": [],
   "source": [
    "# Use List Comprehension to create a list of the first letters of every word in the string below:\n",
    "st = 'Create a list of the first letters of every word in this string'\n"
   ]
  },
  {
   "cell_type": "markdown",
   "metadata": {},
   "source": [
    "Guessing Game Challenge\n",
    "Let's use while loops to create a guessing game.\n",
    "\n",
    "The Challenge:\n",
    "\n",
    "Write a program that picks a random integer from 1 to 100, and has players guess the number. The rules are:\n",
    "\n",
    "1. If a player's guess is less than 1 or greater than 100, say \"OUT OF BOUNDS\"\n",
    "2. On a player's first turn, if their guess is\n",
    "* within 10 of the number, return \"WARM!\"\n",
    "* further than 10 away from the number, return \"COLD!\"\n",
    "3. On all subsequent turns, if a guess is\n",
    "* closer to the number than the previous guess return \"WARMER!\"\n",
    "* farther from the number than the previous guess, return \"COLDER!\"\n",
    "4. When the player's guess equals the number, tell them they've guessed correctly and how many guesses it took!\n",
    "You can try this from scratch, or follow the steps outlined below. A separate Solution notebook has been provided. Good luck!\n",
    "\n"
   ]
  },
  {
   "cell_type": "code",
   "execution_count": 7,
   "metadata": {},
   "outputs": [
    {
     "name": "stdout",
     "output_type": "stream",
     "text": [
      "Target:  73\n",
      "Guess a Number between 1 and 100\n",
      "10\n",
      "Cold\n",
      "Guess a Number between 1 and 100\n",
      "15\n",
      "Colder\n",
      "Guess a Number between 1 and 100\n",
      "100\n",
      "Colder\n",
      "Guess a Number between 1 and 100\n",
      "83\n",
      "Colder\n",
      "Guess a Number between 1 and 100\n",
      "82\n",
      "Warmer\n",
      "Guess a Number between 1 and 100\n",
      "73\n",
      "Congradulations, You won the game\n",
      "Warmer\n",
      "Your Guesses : [10, 15, 100, 83, 82, 73]\n"
     ]
    }
   ],
   "source": [
    "import random\n",
    "\n",
    "guesses = []\n",
    "target = random.randint(1,100)\n",
    "print('Target: ' , target)\n",
    "guess = 0\n",
    "while guess != target:\n",
    "    guess = int(input('Guess a Number between 1 and 100\\n'))\n",
    "    if guess <= 0 or guess > 100:\n",
    "        print('Please Enter a Number between 1 and 100')\n",
    "    if guess == target:\n",
    "        print('Congradulations, You won the game')\n",
    "    if abs(target - guess) < 10:\n",
    "        \n",
    "        if len(guesses) == 0 : \n",
    "            print('Warm') \n",
    "        else: \n",
    "            print('Warmer')\n",
    "    else:\n",
    "        if len(guesses) == 0 : \n",
    "            print('Cold') \n",
    "        else: \n",
    "            print('Colder')\n",
    "        \n",
    "    \n",
    "    guesses.append(guess)\n",
    "print('Your Guesses :',guesses)"
   ]
  },
  {
   "cell_type": "markdown",
   "metadata": {},
   "source": [
    "## LAB #3 ~ Chapter 1\n",
    "\n",
    "\n",
    "## the goal of this chapter is to discuss common data structures and algorithms involving data. In addition, treatment is given to the various data structures contained in the collections module."
   ]
  },
  {
   "cell_type": "markdown",
   "metadata": {},
   "source": [
    "####  1.1Problem\n",
    "You have an N-element tuple or sequence that you would like to unpack into a collection of N variables.\n",
    "- if there is more variables than return values .you ay get an rerror\n",
    "- Unpacking actually works with any object that happens to be iterable, not just tuples or lists.\n"
   ]
  },
  {
   "cell_type": "code",
   "execution_count": 8,
   "metadata": {},
   "outputs": [
    {
     "name": "stdout",
     "output_type": "stream",
     "text": [
      "a = the letter a\n",
      "b = the letter b\n"
     ]
    }
   ],
   "source": [
    "pack = ('the letter a','the letter b')\n",
    "a, b = pack\n",
    "print(f'a = {a}\\nb = {b}')"
   ]
  },
  {
   "cell_type": "markdown",
   "metadata": {},
   "source": [
    "#### 1.2 Problem\n",
    "You need to unpack N elements from an iterable, but the iterable may be longer than N elements, causing a “too many values to unpack” exception.\n",
    "Solution\n",
    "-  the * sign grabs every elementfrom giving pack til next\n",
    "- * means it expects a list\n",
    "- * is used when the size or cintent of the list youre unpacking is unknown\n",
    "- list unpacking * grav everything in the list that not accounted for"
   ]
  },
  {
   "cell_type": "code",
   "execution_count": 9,
   "metadata": {},
   "outputs": [
    {
     "name": "stdout",
     "output_type": "stream",
     "text": [
      "a: [1, 2, 3, 4, 5, 'dsjf']\n",
      "b: [1, 2, 3, 4, 5]\n",
      "c: dsjf\n",
      "a2: 1\n",
      "b: [2, 3, 4, 5]\n",
      "c: dsjf\n",
      "first:  FIRST\n",
      "mid:  [2, '3', 4]\n",
      "last:  rotten egg\n",
      "*******\n",
      "list_num: [1, 2, 3, 4, 5, 6, 7, 10, 100]\n",
      "head: 1\n",
      "sum of tail 137\n",
      "*******\n",
      "*******\n",
      "list_num: [3]\n",
      "head: 3\n",
      "sum of tail 0\n",
      "*******\n"
     ]
    },
    {
     "data": {
      "text/plain": [
       "3"
      ]
     },
     "execution_count": 9,
     "metadata": {},
     "output_type": "execute_result"
    }
   ],
   "source": [
    "a = [1,2,3,4,5,'dsjf']\n",
    "print('a:', a)\n",
    "*b,c = a\n",
    "print('b:',b)\n",
    "print('c:',c)\n",
    "\n",
    "a1,*b,c = a\n",
    "print('a2:',a1)\n",
    "print('b:',b)\n",
    "print('c:',c)\n",
    "\n",
    "new_list = ['FIRST',2,'3',2*2, 'rotten egg']\n",
    "first , *mid, last = new_list\n",
    "print('first: ', first)\n",
    "print('mid: ', mid)\n",
    "print('last: ', last)\n",
    "l = [1,2,3,4,5,6,7,10,100]\n",
    "def summ(list_num):\n",
    "    head, *tail = list_num\n",
    "    print(\"*\"*7)\n",
    "    print('list_num:',list_num)\n",
    "    print('head:' , head)\n",
    "    print('sum of tail', sum(tail))\n",
    "    print(\"*\"*7)\n",
    "    return head + sum(tail) if tail else head\n",
    "\n",
    "summ(l)\n",
    "summ([3])"
   ]
  },
  {
   "cell_type": "markdown",
   "metadata": {},
   "source": [
    "#### 1.3 Problem\n",
    "You want to keep a limited history of the last few items seen during iteration or during some other kind of processing.\n",
    "\n",
    "- When writing code to search for items, it is common to use a generator function involving yield, \n",
    "- This decouples the process of searching from the code that uses the results. If you’re new to generators, see Recipe 4.3.\n",
    "- Using deque(maxlen=N) creates a fixed-sized queue. When new items are added and the queue is full, the oldest item is automatically removed. \n",
    "- deque methods -> append(),appendleft(),popleft(),pop()\n"
   ]
  },
  {
   "cell_type": "code",
   "execution_count": 10,
   "metadata": {},
   "outputs": [
    {
     "name": "stdout",
     "output_type": "stream",
     "text": [
      "q:  deque([2, 22, 33], maxlen=3)\n",
      "q:  deque([22, 33, 24], maxlen=3)\n"
     ]
    }
   ],
   "source": [
    "from collections import deque\n",
    "\n",
    "def search(lines, pattern, history=5): \n",
    "    previous_lines = deque(maxlen=history) \n",
    "    for line in lines:\n",
    "        if pattern in line:\n",
    "            yield line, previous_lines\n",
    "        previous_lines.append(line)\n",
    "    \n",
    "for line, prevlines in search(['python is fun','java is the way it is'], 'python', 5): \n",
    "    for pline in prevlines:\n",
    "        print(pline, end='') \n",
    "        print(line, end='') \n",
    "        print('-'*20)\n",
    "\n",
    "q = deque(maxlen=3)\n",
    "q.append(2)\n",
    "q.append(22)\n",
    "q.append(33)\n",
    "print('q: ',q)\n",
    "q.append(24)\n",
    "print('q: ',q)"
   ]
  },
  {
   "cell_type": "markdown",
   "metadata": {},
   "source": [
    "#### 1.4 Problem\n",
    "You want to make a list of the largest or smallest N items in a collection.\n",
    "\n",
    "- heapq module has two functions—nlargest() and nsmallest()— best for finding multiple numbers otherwise better to use the min() / max()\n",
    "- key=lambda s: s['price'])-> perform the function on a specific column\n",
    "- heapq automatically order a list\n",
    "- The most important feature of a heap is that heap[0] is always the smallest item\n",
    "- O(log N) where N is the size of the heap"
   ]
  },
  {
   "cell_type": "code",
   "execution_count": 11,
   "metadata": {},
   "outputs": [
    {
     "name": "stdout",
     "output_type": "stream",
     "text": [
      "nums [1, 8, 2, 23, 7, -4, 18, 23, 42, 37, 278]\n",
      "n-largest [278, 42, 37]\n",
      "n-smallest [-4, 1, 2]\n",
      "new_nums [1, 8, 2, 23, 7, -4, 18, 23, 42, 37, 278]\n",
      "new_nums heapq [-4, 7, 1, 23, 8, 2, 18, 23, 42, 37, 278]\n",
      "pop:  -4\n",
      "new_nums after pop 1 [1, 7, 2, 23, 8, 278, 18, 23, 42, 37]\n",
      "pop:  1\n",
      "new_nums after pop 2 [2, 7, 18, 23, 8, 278, 37, 23, 42]\n",
      "pop:  2\n",
      "new_nums after pop 3 [7, 8, 18, 23, 42, 278, 37, 23]\n"
     ]
    }
   ],
   "source": [
    "import heapq\n",
    "\n",
    "nums = [1, 8, 2, 23, 7, -4, 18, 23, 42, 37, 278]\n",
    "print('nums', nums)\n",
    "print('n-largest',heapq.nlargest(3, nums)) \n",
    "print('n-smallest',heapq.nsmallest(3, nums))\n",
    "new_nums = list(nums)\n",
    "print('new_nums',new_nums)\n",
    "heapq.heapify(new_nums)\n",
    "print('new_nums heapq',new_nums)\n",
    "print('pop: ', heapq.heappop(new_nums))\n",
    "print('new_nums after pop 1',new_nums)\n",
    "print('pop: ', heapq.heappop(new_nums))\n",
    "print('new_nums after pop 2',new_nums)\n",
    "print('pop: ', heapq.heappop(new_nums))\n",
    "print('new_nums after pop 3',new_nums)\n",
    "\n"
   ]
  },
  {
   "cell_type": "markdown",
   "metadata": {},
   "source": [
    "#### 1.5 Problem\n",
    "You want to implement a queue that sorts items by a given priority and always returns the item with the highest\n",
    "priority on each pop operation.\n",
    "\n",
    "- pop() operation returned the item with the highest priority.\n",
    "- e two items with the same priority were returned in the same order in which they were inserted into the queue.\n",
    "- The priority value is negated to get the queue to sort items from highest priority to lowest priority. This is opposite of the normal heap ordering, which sorts from lowest to highest value.\n",
    "- If you make (priority, item) tuples, they can be compared as long as the priorities are different. However, if two tuples with equal priorities are compared, the comparison fails as before.\n",
    "- By introducing the extra index and making (priority, index, item) tuples, you avoid this problem entirely since no two tuples will ever have the same value for index (and Python never bothers to compare the remaining tuple values once the result of com parison can be determined):"
   ]
  },
  {
   "cell_type": "code",
   "execution_count": 12,
   "metadata": {},
   "outputs": [
    {
     "name": "stdout",
     "output_type": "stream",
     "text": [
      "Item('bar')\n",
      "Item('spam')\n",
      "Item('foo')\n",
      "Item('grok')\n"
     ]
    }
   ],
   "source": [
    "class PriorityQueue:\n",
    "    def __init__(self):\n",
    "        self._queue = []\n",
    "        self._index = 0\n",
    "        \n",
    "    def push(self, item, priority):\n",
    "        heapq.heappush(self._queue, (-priority, self._index, item))\n",
    "        self._index += 1\n",
    "    def pop(self):\n",
    "        return heapq.heappop(self._queue)[-1]\n",
    "    \n",
    "class Item:\n",
    "    def __init__(self, name):\n",
    "        self.name = name\n",
    "    def __repr__(self):\n",
    "        return 'Item({!r})'.format(self.name)\n",
    "    \n",
    "q = PriorityQueue()\n",
    "q.push(Item('foo'), 1)\n",
    "q.push(Item('bar'), 5)\n",
    "q.push(Item('spam'), 4)\n",
    "q.push(Item('grok'), 1)\n",
    "print(q.pop())\n",
    "print(q.pop())\n",
    "print(q.pop())\n",
    "print(q.pop())"
   ]
  },
  {
   "cell_type": "markdown",
   "metadata": {},
   "source": [
    "#1.6 Problem\n",
    "You want to make a dictionary that maps keys to more than one value (a so-called “multidict”).\n",
    "\n",
    "- A dictionary is a mapping where each key is mapped to a single value.\n",
    "- defaultdict is that it automatically initializes\n",
    "- One caution with defaultdict is that it will automatically create dictionary entries for keys accessed later on\n",
    "- setdefault() on an ordinary dictionary"
   ]
  },
  {
   "cell_type": "code",
   "execution_count": 13,
   "metadata": {},
   "outputs": [
    {
     "name": "stdout",
     "output_type": "stream",
     "text": [
      "d {'a': [1, 2, 3, 4, 5], 'b': [11, 22, 33, 44, 55], 'c': [111, 222, 333, 444, 555]}\n",
      "de init defaultdict(<class 'list'>, {})\n",
      "de defaultdict(<class 'list'>, {'a': [1, 2], 'b': [1]})\n"
     ]
    }
   ],
   "source": [
    "from collections import defaultdict\n",
    "\n",
    "d = {\n",
    "    'a':[1,2,3,4,5],\n",
    "    'b':[11,22,33,44,55],\n",
    "    'c':[111,222,333,444,555]\n",
    "}\n",
    "print('d' , d)\n",
    "\n",
    "de = defaultdict(list)\n",
    "print('de init', de)\n",
    "de['a'].append(1)\n",
    "de['a'].append(2)\n",
    "de['b'].append(1)\n",
    "print('de', de)\n"
   ]
  },
  {
   "cell_type": "markdown",
   "metadata": {},
   "source": [
    "#### 1.7 Problem\n",
    "You want to create a dictionary, and you also want to control the order of items when\n",
    "iterating or serializing\n",
    "\n",
    "- To control the order of items in a dictionary, you can use an OrderedDict from the collections module.\n",
    "- An OrderedDict can be particularly useful when you want to build a mapping that you may want to later serialize or encode into a different format. For example, if you want to precisely control the order of fields appearing in a JSON encoding, first building the data in an OrderedDict will do the trick:\n",
    "- stays in order that it was inserted in\n",
    "- \n"
   ]
  },
  {
   "cell_type": "code",
   "execution_count": 14,
   "metadata": {},
   "outputs": [
    {
     "data": {
      "text/plain": [
       "OrderedDict([('foo', 15), ('bar', 2), ('spam', 35), ('grok', 4)])"
      ]
     },
     "execution_count": 14,
     "metadata": {},
     "output_type": "execute_result"
    }
   ],
   "source": [
    "from collections import OrderedDict\n",
    "d = OrderedDict()\n",
    "d['foo'] = 15\n",
    "d['bar'] = 2\n",
    "d['spam'] = 35\n",
    "d['grok'] = 4\n",
    "d"
   ]
  },
  {
   "cell_type": "markdown",
   "metadata": {},
   "source": [
    "#### 1.8 Problem\n",
    "You want to perform various calculations (e.g., minimum value, maximum value, sort‐\n",
    "ing, etc.) on a dictionary of data.\n",
    "\n",
    "- use zip to covert the dict to a tuple then you can do calculations\n",
    "- When doing these calculations, be aware that zip() creates an iterator that can only be consumed once. \n",
    "- You can get the key corresponding to the min or max value if you supply a key function to min() and max()."
   ]
  },
  {
   "cell_type": "code",
   "execution_count": 15,
   "metadata": {},
   "outputs": [
    {
     "name": "stdout",
     "output_type": "stream",
     "text": [
      "('AAPL', 612.78)\n",
      "('IBM', 205.55)\n",
      "min:  FB\n",
      "max:  AAPL\n",
      "look up (min):  10.75\n"
     ]
    }
   ],
   "source": [
    "prices = {\n",
    " 'ACME': 45.23,\n",
    " 'AAPL': 612.78,\n",
    " 'IBM': 205.55,\n",
    " 'HPQ': 37.20,\n",
    " 'FB': 10.75\n",
    "}\n",
    "\n",
    "p = zip(prices.keys(),prices.values())\n",
    "print(min(p))\n",
    "p = zip(prices.keys(),prices.values())\n",
    "print(max(p))\n",
    "\n",
    "print('min: ' ,min(prices, key = lambda x: prices[x]))\n",
    "print('max: ' ,max(prices, key = lambda x: prices[x]))\n",
    "print('look up (min): ', prices[min(prices, key= lambda x: prices[x])])"
   ]
  },
  {
   "cell_type": "markdown",
   "metadata": {},
   "source": [
    "#### 1.9 Problem\n",
    "You have two dictionaries and want to find out what they might have in common (same keys, same values, etc.).\n",
    "\n",
    "- Find keys in common ->a.keys() & b.keys() # { 'x', 'y' }\n",
    "- Find keys in a that are not in b -> a.keys() - b.keys() # { 'z' }\n",
    "- Find (key,value) pairs in common -> a.items() & b.items() # { ('y', 2) }"
   ]
  },
  {
   "cell_type": "code",
   "execution_count": 16,
   "metadata": {},
   "outputs": [
    {
     "name": "stdout",
     "output_type": "stream",
     "text": [
      "a & b: keys {'c'}\n",
      "a - b: keys {'b', 'a'}\n",
      "a & b: items {('c', 3)}\n"
     ]
    }
   ],
   "source": [
    "dict_a = {\n",
    "    'a': 1,\n",
    "    'b': 2,\n",
    "    'c': 3\n",
    "}\n",
    "\n",
    "dict_b = {\n",
    "    'x': 10,\n",
    "    'y': 2,\n",
    "    'c': 3\n",
    "}\n",
    "print('a & b: keys' ,dict_a.keys() & dict_b.keys())\n",
    "print('a - b: keys' ,dict_a.keys() - dict_b.keys())\n",
    "print('a & b: items' ,dict_a.items() & dict_b.items())\n",
    "\n",
    "\n"
   ]
  },
  {
   "cell_type": "markdown",
   "metadata": {},
   "source": [
    "#### 1.10 Problem\n",
    "You want to eliminate the duplicate values in a sequence, but preserve the order of the remaining items.\n",
    "\n",
    "- convert the sequence but make it a set so that it do  not store repeated elements\n",
    "- sets is best  if you do not. need to keep the ordering,  with the dedupe function you can keep. the ordering an because  it uses a generator its not. bound to a type and can be used for different conviences"
   ]
  },
  {
   "cell_type": "code",
   "execution_count": 17,
   "metadata": {},
   "outputs": [],
   "source": [
    "def dedupe(items):\n",
    "    seen = set()\n",
    "    for item in items:\n",
    "        if item not in seen:\n",
    "            yield item\n",
    "            seen.add(item)\n",
    "            \n",
    "def dedupe(items, key=None):\n",
    "    seen = set()\n",
    "    for item in items:\n",
    "        val = item if key is None else key(item)\n",
    "        if val not in seen:\n",
    "            yield item\n",
    "            seen.add(val)"
   ]
  },
  {
   "cell_type": "code",
   "execution_count": 18,
   "metadata": {},
   "outputs": [
    {
     "name": "stdout",
     "output_type": "stream",
     "text": [
      "[3, 43, 5, 6, 57, 4, 4, 3, 5] len: 9\n",
      "[3, 43, 5, 6, 57, 4] len: 6\n"
     ]
    }
   ],
   "source": [
    "x = [3,43,5,6,57,4,4,3,5,]\n",
    "print(f'{x} len: {len(x)}')\n",
    "\n",
    "x = [3,43,5,6,57,4,4,3,5,]\n",
    "print(f'{list(dedupe(x))} len: {len(list(dedupe(x)))}')"
   ]
  },
  {
   "cell_type": "code",
   "execution_count": 19,
   "metadata": {},
   "outputs": [
    {
     "name": "stdout",
     "output_type": "stream",
     "text": [
      "a: [{'x': 1, 'y': 2}, {'x': 1, 'y': 3}, {'x': 1, 'y': 2}, {'x': 2, 'y': 4}]\n",
      "a.dedupe [{'x': 1, 'y': 2}, {'x': 1, 'y': 3}, {'x': 2, 'y': 4}]\n",
      "example 2 [{'x': 1, 'y': 2}, {'x': 2, 'y': 4}]\n"
     ]
    }
   ],
   "source": [
    "a = [ {'x':1, 'y':2}, {'x':1, 'y':3}, {'x':1, 'y':2}, {'x':2, 'y':4}]\n",
    "print(f'a: {a}')\n",
    "print(f\"a.dedupe {list(dedupe(a, key=lambda d: (d['x'],d['y'])))}\")\n",
    "print(f\"example 2 {list(dedupe(a, key=lambda d: d['x']))}\")"
   ]
  },
  {
   "cell_type": "markdown",
   "metadata": {},
   "source": [
    "#### 1.11. Problem\n",
    "Your program has become an unreadable mess of hardcoded slice indices and you want\n",
    "to clean it up\n",
    "\n",
    "-  use. the slice function "
   ]
  },
  {
   "cell_type": "code",
   "execution_count": 20,
   "metadata": {},
   "outputs": [
    {
     "name": "stdout",
     "output_type": "stream",
     "text": [
      "a: [4, 3, 43, 5, 5, 63, 54, 2, 54, 45, 42, 54, 45, 2455, 9]\n",
      "a[3:10]: [5, 5, 63, 54, 2, 54, 45]\n",
      "a[3:10:2]: [5, 63, 2, 45]\n",
      "b: slice(3, 10, None)\n",
      "a[b]: [5, 5, 63, 54, 2, 54, 45]\n",
      "a after del \"[42, 54, 45, 2455, 9]\": [4, 3, 43, 42, 54, 45, 2455, 9]\n"
     ]
    }
   ],
   "source": [
    "a = [4,3,43,5,5,63,54,2,54,45,42,54,45,2455,9]\n",
    "print(f'a: {a}')\n",
    "print(f'a[3:10]: {a[3:10]}')\n",
    "print(f'a[3:10:2]: {a[3:10:2]}')\n",
    "b = slice(3,10)\n",
    "print('b:',b)\n",
    "print('a[b]:',a[b])\n",
    "del a[b]\n",
    "print(f'a after del \"{a[b]}\": {a}')"
   ]
  },
  {
   "cell_type": "markdown",
   "metadata": {},
   "source": [
    "#### 1.12 Problem\n",
    "You have a sequence of items, and you’d like to determine the most frequently occurring\n",
    "items in the sequence.\n",
    "\n",
    "- collections.Counter -> most_common() "
   ]
  },
  {
   "cell_type": "code",
   "execution_count": 21,
   "metadata": {},
   "outputs": [
    {
     "name": "stdout",
     "output_type": "stream",
     "text": [
      "Counter({'eyes': 8, 'the': 5, 'look': 4, 'into': 3, 'my': 3, 'around': 2, 'not': 1, \"don't\": 1, \"you're\": 1, 'under': 1})\n",
      "[('eyes', 8), ('the', 5), ('look', 4)]\n",
      "Counter({'eyes': 9, 'the': 5, 'look': 4, 'my': 4, 'into': 3, 'not': 2, 'around': 2, \"don't\": 1, \"you're\": 1, 'under': 1, 'why': 1, 'are': 1, 'you': 1, 'looking': 1, 'in': 1})\n",
      "Counter({'eyes': 7, 'the': 5, 'look': 4, 'into': 3, 'my': 2, 'around': 2, \"don't\": 1, \"you're\": 1, 'under': 1})\n"
     ]
    }
   ],
   "source": [
    "from collections import Counter\n",
    "\n",
    "words = [\n",
    " 'look', 'into', 'my', 'eyes', 'look', 'into', 'my', 'eyes',\n",
    " 'the', 'eyes', 'the', 'eyes', 'the', 'eyes', 'not', 'around', 'the',\n",
    " 'eyes', \"don't\", 'look', 'around', 'the', 'eyes', 'look', 'into',\n",
    " 'my', 'eyes', \"you're\", 'under'\n",
    "]\n",
    "\n",
    "morewords = ['why','are','you','not','looking','in','my','eyes']\n",
    "\n",
    "word_counts = Counter(words)\n",
    "print(word_counts)\n",
    "top_three = word_counts.most_common(3)\n",
    "print(top_three)\n",
    "a = Counter(words)\n",
    "b = Counter(morewords)\n",
    "print(a+b)\n",
    "print(a-b)"
   ]
  },
  {
   "cell_type": "markdown",
   "metadata": {},
   "source": [
    "#### 1.13 Problem\n",
    "\n",
    "You have a list of dictionaries and you would like to sort the entries according to one\n",
    "or more of the dictionary values.\n",
    "\n",
    "- operator module’s itemgetter()"
   ]
  },
  {
   "cell_type": "code",
   "execution_count": 22,
   "metadata": {},
   "outputs": [
    {
     "name": "stdout",
     "output_type": "stream",
     "text": [
      "order by name\n",
      "[{'fname': 'Big', 'lname': 'Jones', 'uid': 1004}, {'fname': 'Brian', 'lname': 'Jones', 'uid': 1003}, {'fname': 'David', 'lname': 'Beazley', 'uid': 1002}, {'fname': 'John', 'lname': 'Cleese', 'uid': 1001}]\n",
      "order by\n",
      "[{'fname': 'John', 'lname': 'Cleese', 'uid': 1001}, {'fname': 'David', 'lname': 'Beazley', 'uid': 1002}, {'fname': 'Brian', 'lname': 'Jones', 'uid': 1003}, {'fname': 'Big', 'lname': 'Jones', 'uid': 1004}]\n"
     ]
    }
   ],
   "source": [
    "rows = [\n",
    " {'fname': 'Brian', 'lname': 'Jones', 'uid': 1003},\n",
    " {'fname': 'David', 'lname': 'Beazley', 'uid': 1002},\n",
    " {'fname': 'John', 'lname': 'Cleese', 'uid': 1001},\n",
    " {'fname': 'Big', 'lname': 'Jones', 'uid': 1004}\n",
    "]\n",
    "\n",
    "from operator import itemgetter\n",
    "\n",
    "rows_by_fname = sorted(rows, key=itemgetter('fname'))\n",
    "rows_by_uid = sorted(rows, key=itemgetter('uid','lname'))\n",
    "print('order by name')\n",
    "print(rows_by_fname)\n",
    "print('order by')\n",
    "print(rows_by_uid)"
   ]
  },
  {
   "cell_type": "markdown",
   "metadata": {},
   "source": [
    "#### 1.14 Problem\n",
    "You want to sort objects of the same class, but they don’t natively support comparison\n",
    "operations.\n",
    "\n",
    "- sorted function with the attribyt app_getter() similar to item_getter()"
   ]
  },
  {
   "cell_type": "markdown",
   "metadata": {},
   "source": [
    "#### 1.15 problem\n",
    "You have a sequence of dictionaries or instances and you want to iterate over the data in groups based on the value of a particular field, such as date. Solu\n",
    "\n",
    "- intertools.groupby()\n",
    "- must sort first if you going to do groupby"
   ]
  },
  {
   "cell_type": "code",
   "execution_count": 23,
   "metadata": {},
   "outputs": [
    {
     "name": "stdout",
     "output_type": "stream",
     "text": [
      "07/01/2012\n",
      "  {'address': '5412 N CLARK', 'date': '07/01/2012'}\n",
      "  {'address': '4801 N BROADWAY', 'date': '07/01/2012'}\n",
      "07/02/2012\n",
      "  {'address': '5800 E 58TH', 'date': '07/02/2012'}\n",
      "  {'address': '5645 N RAVENSWOOD', 'date': '07/02/2012'}\n",
      "  {'address': '1060 W ADDISON', 'date': '07/02/2012'}\n",
      "07/03/2012\n",
      "  {'address': '2122 N CLARK', 'date': '07/03/2012'}\n",
      "07/04/2012\n",
      "  {'address': '5148 N CLARK', 'date': '07/04/2012'}\n",
      "  {'address': '1039 W GRANVILLE', 'date': '07/04/2012'}\n"
     ]
    }
   ],
   "source": [
    "rows = [\n",
    " {'address': '5412 N CLARK', 'date': '07/01/2012'},\n",
    " {'address': '5148 N CLARK', 'date': '07/04/2012'},\n",
    " {'address': '5800 E 58TH', 'date': '07/02/2012'},\n",
    " {'address': '2122 N CLARK', 'date': '07/03/2012'},\n",
    " {'address': '5645 N RAVENSWOOD', 'date': '07/02/2012'},\n",
    " {'address': '1060 W ADDISON', 'date': '07/02/2012'},\n",
    " {'address': '4801 N BROADWAY', 'date': '07/01/2012'},\n",
    " {'address': '1039 W GRANVILLE', 'date': '07/04/2012'},\n",
    "]\n",
    "\n",
    "from operator import itemgetter\n",
    "from itertools import groupby\n",
    "# Sort by the desired field first\n",
    "rows.sort(key=itemgetter('date'))\n",
    "# Iterate in groups\n",
    "for date, items in groupby(rows, key=itemgetter('date')):\n",
    "    print(date)\n",
    "    for i in items:\n",
    "        print(' ', i)"
   ]
  },
  {
   "cell_type": "markdown",
   "metadata": {},
   "source": [
    "#### 1.16.Problem\n",
    "You have data inside of a sequence, and need to extract values or reduce the sequence\n",
    "using some criteria.\n",
    "\n",
    "- list comprehension\n",
    "- good for keep original list\n",
    "- returns an iterable"
   ]
  },
  {
   "cell_type": "code",
   "execution_count": 24,
   "metadata": {},
   "outputs": [],
   "source": [
    "def is_int(val):\n",
    "    try:\n",
    "        x = int(val)\n",
    "        return True\n",
    "    except ValueError:\n",
    "        return False"
   ]
  },
  {
   "cell_type": "code",
   "execution_count": 25,
   "metadata": {},
   "outputs": [
    {
     "name": "stdout",
     "output_type": "stream",
     "text": [
      "list a:  [343, 54, 2, 23, 54, 64, 65, 76, 54, 1, 5, 7, 43]\n",
      "elements less than 20 lista\n",
      "[2, 1, 5, 7]\n",
      "['1', '2', '-3', '4', '5']\n"
     ]
    }
   ],
   "source": [
    "lista = [343,54,2,23,54,64,65,76,54,1,5,7,43]\n",
    "print('list a: ', lista)\n",
    "print('elements less than 20 lista')\n",
    "print(list([x for x in lista if x < 20]))\n",
    "\n",
    "values = ['1', '2', '-3', '-', '4', 'N/A', '5']\n",
    "\n",
    "ivals = list(filter(is_int, values))\n",
    "print(ivals)"
   ]
  },
  {
   "cell_type": "markdown",
   "metadata": {},
   "source": [
    "#### 1.7 Problem\n",
    "You want to make a dictionary that is a subset of another dictionary.\n",
    "\n"
   ]
  },
  {
   "cell_type": "code",
   "execution_count": 26,
   "metadata": {},
   "outputs": [
    {
     "name": "stdout",
     "output_type": "stream",
     "text": [
      "{'AAPL': 612.78, 'IBM': 205.55}\n",
      "{'AAPL': 612.78, 'IBM': 205.55, 'HPQ': 37.2}\n"
     ]
    }
   ],
   "source": [
    "prices = {\n",
    " 'ACME': 45.23,\n",
    " 'AAPL': 612.78,\n",
    " 'IBM': 205.55,\n",
    " 'HPQ': 37.20,\n",
    " 'FB': 10.75\n",
    "}\n",
    "# Make a dictionary of all prices over 200\n",
    "p1 = { key:value for key, value in prices.items() if value > 200 }\n",
    "# Make a dictionary of tech stocks\n",
    "tech_names = { 'AAPL', 'IBM', 'HPQ', 'MSFT' }\n",
    "p2 = { key:value for key,value in prices.items() if key in tech_names }\n",
    "\n",
    "print(p1)\n",
    "print(p2)"
   ]
  },
  {
   "cell_type": "markdown",
   "metadata": {},
   "source": [
    "#### 1.18 problem\n",
    "You have code that accesses list or tuple elements by position, but this makes the code\n",
    "somewhat difficult to read at times. You’d also like to be less dependent on position in\n",
    "the structure, by accessing the elements by name.\n",
    "\n",
    "- collections.nametuple() \n",
    "- similar to dictionaries buT REQ LESS SPACE\n",
    "- namedtuples are immutable\n",
    "- create a prototype and use -replace() to change values\n",
    "-  changing various instance attributes, using namedtuple is not your best choice. Instead, consider defining a class using __slots__ instead"
   ]
  },
  {
   "cell_type": "code",
   "execution_count": 27,
   "metadata": {},
   "outputs": [
    {
     "name": "stdout",
     "output_type": "stream",
     "text": [
      "Subscriber(addr='jonesy@example.com', joined='2012-10-19')\n"
     ]
    },
    {
     "data": {
      "text/plain": [
       "'jon2wwesy@example.com'"
      ]
     },
     "execution_count": 27,
     "metadata": {},
     "output_type": "execute_result"
    }
   ],
   "source": [
    "from collections import namedtuple\n",
    "Subscriber = namedtuple('Subscriber', ['addr', 'joined'])\n",
    "sub = Subscriber('jonesy@example.com', '2012-10-19')\n",
    "sub2 = Subscriber('jon2wwesy@example.com', '2012-14-19')\n",
    "\n",
    "print(sub)\n",
    "sub2.addr"
   ]
  },
  {
   "cell_type": "markdown",
   "metadata": {},
   "source": [
    "#### 1.19 Problem\n",
    "\n",
    "You need to execute a reduction function (e.g., sum(), min(), max()), but first need to transform or filter the data.\n",
    "\n",
    "- list can be big generators are faster"
   ]
  },
  {
   "cell_type": "markdown",
   "metadata": {},
   "source": [
    "#### 1.20 Problem\n",
    "You have multiple dictionaries or mappings that you want to logically combine into a\n",
    "single mapping to perform certain operations, such as looking up values or checking\n",
    "for the existence of keys.\n",
    "\n",
    "- chainmaps\n",
    "- unlike dictionaries chain maps get updated when changing a dictionary value '"
   ]
  },
  {
   "cell_type": "code",
   "execution_count": 28,
   "metadata": {},
   "outputs": [
    {
     "name": "stdout",
     "output_type": "stream",
     "text": [
      "alter chain map -> dict_chain[3]->city\n",
      "dict_chain[3]-> City\n",
      "alter map cat -> frog\n",
      "dict a  {1: 'cat', 2: 'orange', 3: 'City'}\n",
      "dicta[1] ->  frog\n",
      "chainmap[1] ->  frog\n"
     ]
    }
   ],
   "source": [
    "from collections import ChainMap\n",
    "dicta = {1:'cat',2:'orange',3:'forrrest'}\n",
    "dictb = {3:'dog',4:'red',5:'ocean'}\n",
    "\n",
    "dict_chain = ChainMap(dicta,dictb)\n",
    "dict_chain\n",
    "print('alter chain map -> dict_chain[3]->city')\n",
    "dict_chain[3]\n",
    "dict_chain[3] = 'City'\n",
    "print('dict_chain[3]->',dict_chain[3])\n",
    "print('alter map cat -> frog')\n",
    "print('dict a ', dicta)\n",
    "dicta[1] = 'frog'\n",
    "print('dicta[1] -> ',dicta[1])\n",
    "print('chainmap[1] -> ',dict_chain[1])"
   ]
  }
 ],
 "metadata": {
  "kernelspec": {
   "display_name": "Python 3",
   "language": "python",
   "name": "python3"
  },
  "language_info": {
   "codemirror_mode": {
    "name": "ipython",
    "version": 3
   },
   "file_extension": ".py",
   "mimetype": "text/x-python",
   "name": "python",
   "nbconvert_exporter": "python",
   "pygments_lexer": "ipython3",
   "version": "3.9.0"
  }
 },
 "nbformat": 4,
 "nbformat_minor": 4
}
