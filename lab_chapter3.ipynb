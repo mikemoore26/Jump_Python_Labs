{
 "cells": [
  {
   "cell_type": "markdown",
   "metadata": {},
   "source": [
    "## 3.1 Problem\n",
    "\n",
    "You want to round a floating-point number to a fixed number of decimal places.\n",
    "- For simple rounding, use the built-in round(value, ndigits) function. \n",
    "- When a value is exactly halfway between two choices, the behavior of round is to round to the nearest even digit. That is, values such as 1.5 or 2.5 both get rounded to 2.\n",
    "- if floating number is part of a string use format instead of round\n"
   ]
  },
  {
   "cell_type": "code",
   "execution_count": 1,
   "metadata": {},
   "outputs": [
    {
     "name": "stdout",
     "output_type": "stream",
     "text": [
      "x: 123456.98765\n",
      "round(x,2):  123456.99\n",
      "round(x,5):  123456.98765\n",
      "round(x,6):  123456.98765\n",
      "round(x,-1):  123460.0\n",
      "round(x,-4):  120000.0\n",
      "round(x,-7):  0.0\n",
      "format(x, 0.2f): 123456.99\n"
     ]
    }
   ],
   "source": [
    "# round 123456.98765\n",
    "x = 123456.98765\n",
    "\n",
    "print('x:', x)\n",
    "print('round(x,2): ',round(x,2))\n",
    "print('round(x,5): ',round(x,5))\n",
    "print('round(x,6): ',round(x,6))\n",
    "print('round(x,-1): ',round(x,-1))\n",
    "print('round(x,-4): ',round(x,-4))\n",
    "print('round(x,-7): ',round(x,-7))\n",
    "print('format(x, 0.2f):',format(x, '0.2f'))"
   ]
  },
  {
   "cell_type": "markdown",
   "metadata": {},
   "source": [
    "#### 3.2 Problem\n",
    "\n",
    "You need to perform accurate calculations with decimal numbers, and don’t want the\n",
    "small errors that naturally occur with floats.\n",
    "\n",
    "- A well-known issue with floating-point numbers is that they can’t accurately represent all base-10 decimals. Moreover, even simple mathematical calculations introduce small errors.\n",
    "- If you want more accuracy (and are willing to give up some performance), you can use the decimal module:\n",
    "- If you print them or use them in string formatting functions, they look like normal numbers.\n",
    "- A major feature of decimal is that it allows you to control different aspects of calculations, including number of digits and rounding. To do this, you create a local context and change its settings.\n",
    "- Mostly used. in finance\n",
    "- Even though float is not as accurate as the decimal module it is. more commonly used because its faster and most things that small difference can represent randomness as it is impossible to capture something at such a. precisison."
   ]
  },
  {
   "cell_type": "code",
   "execution_count": 2,
   "metadata": {},
   "outputs": [
    {
     "name": "stdout",
     "output_type": "stream",
     "text": [
      "a+b= 6.300000000000001\n",
      "a2+b2= 6.3\n",
      "a2/b2 :  0.7647058823529411764705882353\n",
      "a2/b2 lc():  0.765\n"
     ]
    }
   ],
   "source": [
    "a = 4.2\n",
    "b = 2.1\n",
    "print('a+b=', a+b)\n",
    "\n",
    "from decimal import Decimal,localcontext\n",
    "\n",
    "a2 = Decimal('4.2')\n",
    "b2 = Decimal('2.1')\n",
    "\n",
    "print('a2+b2=', a2+b2)\n",
    "\n",
    "a2 = Decimal('1.3')\n",
    "b2 = Decimal('1.7')\n",
    "\n",
    "print('a2/b2 : ',a2 / b2)\n",
    "\n",
    "with localcontext() as lc:\n",
    "    lc.prec = 3\n",
    "    print('a2/b2 lc(): ',a2 / b2)"
   ]
  },
  {
   "cell_type": "markdown",
   "metadata": {},
   "source": [
    "### 3.3 Problem\n",
    "\n",
    "You need to format a number for output, controlling the number of digits, alignment,\n",
    "inclusion of a thousands separator, and other details.\n",
    "\n",
    "- format() f-float ,  e-exponential notation\n",
    "    - '>' (right justified)\n",
    "    - < (left justified)\n",
    "    - ^ center\n",
    "    - , (thousand seperator)\n",
    "    - <float/>f (precision to the floating number)\n",
    "\n",
    "- The general form of the width and precision in both cases is '[<>^]?width[,]?(.digits)?' where width and digits are integers and ? signifies optional parts. The sameformat codes are also used in the .format()\n",
    "    "
   ]
  },
  {
   "cell_type": "code",
   "execution_count": 3,
   "metadata": {},
   "outputs": [
    {
     "name": "stdout",
     "output_type": "stream",
     "text": [
      "x:  123456.98765\n",
      ">:    123457.0\n",
      "<:  123457.0  \n",
      "^:   123457.0 \n",
      ",:  123,456.98765\n",
      ",f:  123,456.99\n",
      "e:  1.234570e+05\n"
     ]
    }
   ],
   "source": [
    "x = 123456.98765\n",
    "\n",
    "print('x: ',x)\n",
    "print('>: ',format(x,'>10.1f'))\n",
    "print('<: ',format(x,'<10.1f'))\n",
    "print('^: ',format(x,'^10.1f'))\n",
    "print(',: ',format(x,'0,'))\n",
    "print(',f: ',format(x,'0,.2f'))\n",
    "print('e: ',format(x,'1e'))"
   ]
  },
  {
   "cell_type": "markdown",
   "metadata": {},
   "source": [
    "## 3.4 Problem\n",
    "\n",
    "You need to convert or output integers represented by binary, octal, or hexadecimal digits.\n",
    "\n",
    "- functions (bin(),oct()hex())\n",
    "- format (b - bin , o - oct, x - hex format(<num/>, car)\n",
    "- signed by default, to unsign set the bit length i.e. : 2**<bit-size>\n"
   ]
  },
  {
   "cell_type": "code",
   "execution_count": 4,
   "metadata": {},
   "outputs": [
    {
     "name": "stdout",
     "output_type": "stream",
     "text": [
      "x  255\n",
      "bin(x):  0b11111111\n",
      "oct(x):  0o377\n",
      "hex(x):  0xff\n",
      "format(x, b) 11111111\n",
      "format(x, o) 377\n",
      "format(x, x) ff\n",
      "format(2**32 + x, x) 1000000ff\n"
     ]
    }
   ],
   "source": [
    "x = 255\n",
    "\n",
    "print('x ',x)\n",
    "print('bin(x): ', bin(x))\n",
    "print('oct(x): ', oct(x))\n",
    "print('hex(x): ', hex(x))\n",
    "print('format(x, b)',format(x, 'b'))\n",
    "print('format(x, o)',format(x, 'o'))\n",
    "print('format(x, x)',format(x, 'x'))\n",
    "print('format(2**32 + x, x)',format(2**32 + x, 'x'))"
   ]
  },
  {
   "cell_type": "markdown",
   "metadata": {},
   "source": [
    "#### 3.5 Problem\n",
    "You have a byte string and you need to unpack it into an integer value. Alternatively, you need to convert a large integer back into a byte string.\n",
    "\n",
    "- int.from_byte()\n",
    "- int.to_byte()"
   ]
  },
  {
   "cell_type": "code",
   "execution_count": 5,
   "metadata": {},
   "outputs": [
    {
     "name": "stdout",
     "output_type": "stream",
     "text": [
      "x 2131332\n",
      "x to.bytes(16,big) b'\\x00\\x00\\x00\\x00\\x00\\x00\\x00\\x00\\x00\\x00\\x00\\x00\\x00 \\x85\\x84'\n",
      "x to.bytes(16,big) b'\\x84\\x85 \\x00\\x00\\x00\\x00\\x00\\x00\\x00\\x00\\x00\\x00\\x00\\x00\\x00'\n",
      "int.from_bytes(x2,big):  2131332\n",
      "int.from_bytes(x3,liitle):  2131332\n",
      "int.from_bytes(x3,big): 176149319962901344151350654280832909312 *Notice a diff key == different results\n"
     ]
    }
   ],
   "source": [
    "x = 2131332\n",
    "print('x',x)\n",
    "x2 = x.to_bytes(16,'big')\n",
    "print('x to.bytes(16,big)', x2)\n",
    "x3 = x.to_bytes(16,'little')\n",
    "print('x to.bytes(16,big)', x3)\n",
    "\n",
    "print('int.from_bytes(x2,big): ', int.from_bytes(x2,'big'))\n",
    "print('int.from_bytes(x3,liitle): ', int.from_bytes(x3,'little'))\n",
    "print('int.from_bytes(x3,big):', int.from_bytes(x3,'big'),'*Notice a diff key == different results')"
   ]
  },
  {
   "cell_type": "markdown",
   "metadata": {},
   "source": [
    "#### 3.6 Problem\n",
    "Your code for interacting with the latest web authentication scheme has encountered a singularity and your only solution is to go around it in the complex plane. Or maybe you just need to perform some calculations using complex numbers.\n",
    "\n",
    "- complex function ... complex(real,imag)\n",
    "- a = complex(x,i)-> a.real = x , a.imag=i\n",
    "-\n",
    "\n"
   ]
  },
  {
   "cell_type": "code",
   "execution_count": 6,
   "metadata": {},
   "outputs": [
    {
     "name": "stdout",
     "output_type": "stream",
     "text": [
      "a (3+2j)\n",
      "a.real 3.0\n",
      "a.imag 2.0\n",
      "a + 2 (5+2j)\n",
      "a-4j (3-2j)\n",
      "sin a (0.5309210862485197-3.5905645899857794j)\n"
     ]
    }
   ],
   "source": [
    "import cmath\n",
    "a = 3 + 2j\n",
    "\n",
    "# b = 3 + 2l VARIABLE HAS TO BE J\n",
    "\n",
    "print('a',a)\n",
    "print('a.real',a.real)\n",
    "print('a.imag',a.imag)\n",
    "print('a + 2', a + 2)\n",
    "print('a-4j', a-4j)\n",
    "print('sin a', cmath.sin(a))"
   ]
  },
  {
   "cell_type": "markdown",
   "metadata": {},
   "source": [
    "#### 3.7 Problem\n",
    "You need to create or test for the floating-point values of infinity, negative infinity, or NaN (not a number).\n",
    "\n",
    "-float('inf'), float('-inf'), float('nan')\n",
    "- inf will operate as if its a normal num\n",
    "- nan will not appear as ==\n",
    "- only way to test if ther is an nan is to use math.isnan()"
   ]
  },
  {
   "cell_type": "code",
   "execution_count": 7,
   "metadata": {},
   "outputs": [
    {
     "name": "stdout",
     "output_type": "stream",
     "text": [
      "float(inf) inf\n",
      "float(-inf) -inf\n",
      "float(nan) nan\n"
     ]
    }
   ],
   "source": [
    "print('float(inf)',float('inf'))\n",
    "print('float(-inf)',float('-inf'))\n",
    "print('float(nan)',float('nan'))"
   ]
  },
  {
   "cell_type": "markdown",
   "metadata": {},
   "source": [
    "#### 3.8 Problem\n",
    "You have entered a time machine and suddenly find yourself working on elementary- level homework problems involving fractions. Or perhaps you’re writing code to make calculations involving measurements made in your wood shop\n",
    "\n",
    "- Fraction module \n",
    "- import Fraction from fractions\n",
    "- convert fraction to float float()\n",
    "- convert float to fraction -> Fraction(<float/>.as_integer_ratio()) ** Doesnt work without the *, why?"
   ]
  },
  {
   "cell_type": "code",
   "execution_count": 8,
   "metadata": {},
   "outputs": [],
   "source": [
    "from fractions import Fraction"
   ]
  },
  {
   "cell_type": "code",
   "execution_count": 9,
   "metadata": {},
   "outputs": [
    {
     "name": "stdout",
     "output_type": "stream",
     "text": [
      "a 5/3\n",
      "b 53/13\n",
      "a+b:  224/39\n",
      "a numerator  5\n",
      "b denominator 13\n",
      "a as float 1.6666666666666667\n",
      "c = a * b: 265/39\n",
      "c.numerator 265\n",
      "c.denominator 39\n",
      "c.limit_denomerator 34/5\n",
      "d 4.45\n",
      "Fraction(d.as_integer_ratio()) 5010254585449677/1125899906842624\n"
     ]
    }
   ],
   "source": [
    "a = Fraction(5,3)\n",
    "b = Fraction(53,13)\n",
    "print('a',a)\n",
    "print('b',b)\n",
    "print('a+b: ', a + b)\n",
    "print('a numerator ', a.numerator)\n",
    "print('b denominator', b.denominator)\n",
    "print('a as float', float(a))\n",
    "c = a * b\n",
    "print('c = a * b:', c)\n",
    "print('c.numerator', c.numerator)\n",
    "print('c.denominator', c.denominator)\n",
    "print('c.limit_denomerator', c.limit_denominator(7))\n",
    "d = float(4.45)\n",
    "print('d',d)\n",
    "print('Fraction(d.as_integer_ratio())',Fraction(*d.as_integer_ratio()))\n",
    "\n",
    "\n",
    "\n"
   ]
  },
  {
   "cell_type": "markdown",
   "metadata": {},
   "source": [
    "#### Problem\n",
    "You need to perform calculations on large numerical datasets, such as arrays or grids.\n",
    "\n",
    "- cant do some basic algorithics with arrays and numbers\n",
    "- multiply an array dont multilplt the elements it multiply the actual array \n",
    "- adding adds array a to array b\n",
    "- to solve this we use numpy\n",
    "- numpy as univeral funct such as sqrt and cos\n",
    "- sub region can be array[[]] [x:y,a:b] ~ not inclusive\n"
   ]
  },
  {
   "cell_type": "code",
   "execution_count": 28,
   "metadata": {},
   "outputs": [
    {
     "name": "stdout",
     "output_type": "stream",
     "text": [
      "a:  [1, 2, 3, 4, 5]\n",
      "a * 2:  [1, 2, 3, 4, 5, 1, 2, 3, 4, 5]\n",
      "a+b:  [1, 2, 3, 4, 5, 11, 12, 13, 14, 15]\n",
      "ax = np a [1 2 3 4 5]\n",
      "bx = np b [11 12 13 14 15]\n",
      "ax * 2: [ 2  4  6  8 10]\n",
      "bx + 10 [21 22 23 24 25]\n",
      "ax * bx [11 24 39 56 75]\n",
      "ax cos [ 0.54030231 -0.41614684 -0.9899925  -0.65364362  0.28366219]\n",
      "bx sqrt [1.         1.41421356 1.73205081 2.         2.23606798]\n",
      "cx:\n",
      " [[1 2 3]\n",
      " [4 5 6]\n",
      " [7 8 9]]\n",
      "cx[1]: [4 5 6]\n",
      "cx[:,1] [2 5 8]\n",
      "cx: reprint\n",
      " [[1 2 3]\n",
      " [4 5 6]\n",
      " [7 8 9]]\n",
      "cx[1:3,:] [[4 5 6]\n",
      " [7 8 9]]\n"
     ]
    }
   ],
   "source": [
    "a= [1,2,3,4,5]\n",
    "b= [11,12,13,14,15]\n",
    "\n",
    "print('a: ',a)\n",
    "print('a * 2: ',a*2)\n",
    "print('a+b: ',a+b)\n",
    "import numpy as np\n",
    "ax = np.array(a)\n",
    "bx = np.array(b)\n",
    "print('ax = np a', ax)\n",
    "print('bx = np b', bx)\n",
    "print('ax * 2:', ax * 2)\n",
    "print('bx + 10', bx + 10)\n",
    "print('ax * bx', ax * bx)\n",
    "print('ax cos', np.cos(ax))\n",
    "print('bx sqrt', np.sqrt(ax))\n",
    "cx = np.array([[1,2,3],[4,5,6],[7,8,9]])\n",
    "print('cx:\\n', cx)\n",
    "print('cx[1]:', cx[1])\n",
    "print('cx[:,1]',cx[:,1])\n",
    "print('cx: reprint\\n', cx)\n",
    "print('cx[1:3,:]', cx[1:3,:])\n"
   ]
  },
  {
   "cell_type": "markdown",
   "metadata": {},
   "source": [
    "### 3.10 Problem\n",
    "You need to perform matrix and linear algebra operations, such as matrix multiplication, finding determinants, solving linear equations, and so on.\n",
    "\n",
    "- multiply by a vector\n",
    "- when multiplying order does matter, vec"
   ]
  },
  {
   "cell_type": "code",
   "execution_count": 39,
   "metadata": {},
   "outputs": [
    {
     "name": "stdout",
     "output_type": "stream",
     "text": [
      "a:\n",
      " [[1 2 3]\n",
      " [4 5 6]\n",
      " [7 8 9]]\n",
      "a.T:\n",
      " [[1 4 7]\n",
      " [2 5 8]\n",
      " [3 6 9]]\n",
      "av:\n",
      " [[2]\n",
      " [3]\n",
      " [1]]\n",
      "av * a:\n",
      " [[11]\n",
      " [29]\n",
      " [47]]\n"
     ]
    }
   ],
   "source": [
    "a = np.matrix([[1,2,3],[4,5,6],[7,8,9]])\n",
    "print('a:\\n',a)\n",
    "print('a.T:\\n',a.T)\n",
    "# print('a.i:\\n',a.I)\n",
    "av = np.matrix([[2],[3],[1]])\n",
    "print('av:\\n', av)\n",
    "print('av * a:\\n', a * av)"
   ]
  },
  {
   "cell_type": "code",
   "execution_count": null,
   "metadata": {},
   "outputs": [],
   "source": []
  },
  {
   "cell_type": "markdown",
   "metadata": {},
   "source": [
    "### Lab Reflection\n",
    "\n",
    "In this Lab i learned a lot of things. One thing i learned was that the round function rounds to the nearest even digit. As much as i used the round method in my coding career that particular information was new to me and interesting now that i think about it. i also found it interesting that float does not return the precise number  that is being added, i actually found it more interesting that most studies that you would thing would want an accurate representation of data but they actually like to keep that room for error. \n",
    "\n",
    "Overall i believe this section gave me a better understanding of numbers being more than numbers you can count.Many different studies may require a number to be represented a different way. For an example a finance firm may want a more accurate and precise representation of a number while scientist want the same number dont mind giving up the computational power and settling for a less precise number.\n",
    "\n",
    "Numbers can be complex meaning having imaginary numbers, numbers can be in a fraction form, numbers can in a matrix which allows you to manipulate a big list of number at once and in different dimensions. In python numbers can be converted into bytes,hex,and octs with just a call to a function making it easy to convert the representation of a number."
   ]
  },
  {
   "cell_type": "code",
   "execution_count": null,
   "metadata": {},
   "outputs": [],
   "source": []
  }
 ],
 "metadata": {
  "kernelspec": {
   "display_name": "Python 3",
   "language": "python",
   "name": "python3"
  },
  "language_info": {
   "codemirror_mode": {
    "name": "ipython",
    "version": 3
   },
   "file_extension": ".py",
   "mimetype": "text/x-python",
   "name": "python",
   "nbconvert_exporter": "python",
   "pygments_lexer": "ipython3",
   "version": "3.9.0"
  }
 },
 "nbformat": 4,
 "nbformat_minor": 4
}
