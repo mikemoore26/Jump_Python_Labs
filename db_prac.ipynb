{
 "cells": [
  {
   "cell_type": "code",
   "execution_count": 18,
   "id": "aa899ab2",
   "metadata": {},
   "outputs": [],
   "source": [
    "host = 'localhost'\n",
    "user = 'root'\n",
    "password = 'mooreTKE26!'\n",
    "db = 'training'"
   ]
  },
  {
   "cell_type": "code",
   "execution_count": 32,
   "id": "074f4dd5",
   "metadata": {},
   "outputs": [],
   "source": [
    "conn = mysql.connector.connect(host=host,user=user,password=password,database=db)"
   ]
  },
  {
   "cell_type": "code",
   "execution_count": 43,
   "id": "b7e32bc6",
   "metadata": {},
   "outputs": [],
   "source": [
    "def connect_database():\n",
    "    conn = mysql.connector.connect(host=host,user=user,password=password,database=db)\n",
    "    \n",
    "    return conn, conn.cursor()"
   ]
  },
  {
   "cell_type": "code",
   "execution_count": 44,
   "id": "53d68ed0",
   "metadata": {},
   "outputs": [],
   "source": [
    "conn, cursor = connect_database()"
   ]
  },
  {
   "cell_type": "code",
   "execution_count": 26,
   "id": "54e56801",
   "metadata": {},
   "outputs": [],
   "source": [
    "#cursor.execute('create database training')"
   ]
  },
  {
   "cell_type": "code",
   "execution_count": 27,
   "id": "7ab8f6cf",
   "metadata": {},
   "outputs": [],
   "source": [
    "#conn.close()"
   ]
  },
  {
   "cell_type": "code",
   "execution_count": 22,
   "id": "d5933288",
   "metadata": {},
   "outputs": [],
   "source": [
    "sql = \"CREATE TABLE STUDENTS(name varchar(20), rollback_num INT)\""
   ]
  },
  {
   "cell_type": "code",
   "execution_count": 24,
   "id": "3acd1bed",
   "metadata": {},
   "outputs": [],
   "source": [
    "#cursor.execute(sql)"
   ]
  },
  {
   "cell_type": "code",
   "execution_count": 25,
   "id": "eb3f0994",
   "metadata": {},
   "outputs": [],
   "source": [
    "conn.commit()"
   ]
  },
  {
   "cell_type": "code",
   "execution_count": 26,
   "id": "d8231ac6",
   "metadata": {},
   "outputs": [],
   "source": [
    "cursor.execute('SHOW TABLES')"
   ]
  },
  {
   "cell_type": "code",
   "execution_count": 27,
   "id": "6db82343",
   "metadata": {},
   "outputs": [],
   "source": [
    "conn.close()"
   ]
  },
  {
   "cell_type": "code",
   "execution_count": 53,
   "id": "36dc754a",
   "metadata": {},
   "outputs": [],
   "source": [
    "sql = 'INSERT INTO STUDENTS values (\"MIKE\",1)'"
   ]
  },
  {
   "cell_type": "code",
   "execution_count": 54,
   "id": "a5a20824",
   "metadata": {},
   "outputs": [],
   "source": [
    "cursor.execute(sql)"
   ]
  },
  {
   "cell_type": "code",
   "execution_count": 51,
   "id": "608439ef",
   "metadata": {},
   "outputs": [],
   "source": [
    "conn,cursor = connect_database()"
   ]
  },
  {
   "cell_type": "code",
   "execution_count": 52,
   "id": "e45a68e1",
   "metadata": {},
   "outputs": [],
   "source": [
    "sql = 'SELECT * FROM STUDENTS'"
   ]
  },
  {
   "cell_type": "code",
   "execution_count": 53,
   "id": "02c4f9b4",
   "metadata": {},
   "outputs": [],
   "source": [
    "cursor.execute(sql)"
   ]
  },
  {
   "cell_type": "code",
   "execution_count": 55,
   "id": "2850d946",
   "metadata": {},
   "outputs": [],
   "source": [
    "myresult = cursor.fetchall()"
   ]
  },
  {
   "cell_type": "code",
   "execution_count": 56,
   "id": "44bdafec",
   "metadata": {},
   "outputs": [
    {
     "name": "stdout",
     "output_type": "stream",
     "text": [
      "('Michael', 2)\n",
      "('Merkis', 3)\n",
      "('Sai', 4)\n",
      "('Michael', 2)\n",
      "('Merkis', 3)\n",
      "('Sai', 4)\n"
     ]
    }
   ],
   "source": [
    "for i in myresult:\n",
    "    print(i)"
   ]
  },
  {
   "cell_type": "code",
   "execution_count": 63,
   "id": "154b54af",
   "metadata": {},
   "outputs": [],
   "source": [
    "conn.close()"
   ]
  },
  {
   "cell_type": "code",
   "execution_count": 64,
   "id": "349134f7",
   "metadata": {},
   "outputs": [],
   "source": [
    "conn,cursor = connect_database()"
   ]
  },
  {
   "cell_type": "code",
   "execution_count": 65,
   "id": "efa51b42",
   "metadata": {},
   "outputs": [],
   "source": [
    "sql = 'SELECT * FROM STUDENTS WHERE name = \"Michael\"'"
   ]
  },
  {
   "cell_type": "code",
   "execution_count": 66,
   "id": "5ac05ee1",
   "metadata": {},
   "outputs": [],
   "source": [
    "cursor.execute(sql)"
   ]
  },
  {
   "cell_type": "code",
   "execution_count": 67,
   "id": "315880bd",
   "metadata": {},
   "outputs": [],
   "source": [
    "myresult = cursor.fetchall()"
   ]
  },
  {
   "cell_type": "code",
   "execution_count": 68,
   "id": "6ef18c8f",
   "metadata": {},
   "outputs": [
    {
     "name": "stdout",
     "output_type": "stream",
     "text": [
      "('Michael', 2)\n",
      "('Michael', 2)\n"
     ]
    }
   ],
   "source": [
    "for i in myresult:\n",
    "    print(i)"
   ]
  },
  {
   "cell_type": "code",
   "execution_count": 69,
   "id": "8108b321",
   "metadata": {},
   "outputs": [],
   "source": [
    "conn.close()"
   ]
  },
  {
   "cell_type": "code",
   "execution_count": 70,
   "id": "77d830c7",
   "metadata": {},
   "outputs": [],
   "source": [
    "conn,cursor = connect_database()"
   ]
  },
  {
   "cell_type": "code",
   "execution_count": 71,
   "id": "2949f2a5",
   "metadata": {},
   "outputs": [],
   "source": [
    "sql = 'SELECT * FROM STUDENTS order by rollback_num asc'"
   ]
  },
  {
   "cell_type": "code",
   "execution_count": 72,
   "id": "751d1afe",
   "metadata": {},
   "outputs": [],
   "source": [
    "cursor.execute(sql)"
   ]
  },
  {
   "cell_type": "code",
   "execution_count": 73,
   "id": "ee7cb522",
   "metadata": {},
   "outputs": [],
   "source": [
    "myresult = cursor.fetchall()"
   ]
  },
  {
   "cell_type": "code",
   "execution_count": 74,
   "id": "6bc7f03d",
   "metadata": {},
   "outputs": [
    {
     "name": "stdout",
     "output_type": "stream",
     "text": [
      "('Michael', 2)\n",
      "('Michael', 2)\n",
      "('Merkis', 3)\n",
      "('Merkis', 3)\n",
      "('Sai', 4)\n",
      "('Sai', 4)\n"
     ]
    }
   ],
   "source": [
    "myresult = cursor.fetchall()\n",
    "for i in myresult:\n",
    "    print(i)"
   ]
  },
  {
   "cell_type": "code",
   "execution_count": 75,
   "id": "05a1d085",
   "metadata": {},
   "outputs": [],
   "source": [
    "conn.close()"
   ]
  },
  {
   "cell_type": "code",
   "execution_count": 87,
   "id": "f1c6ee2f",
   "metadata": {},
   "outputs": [],
   "source": [
    "conn,cursor = connect_database()"
   ]
  },
  {
   "cell_type": "code",
   "execution_count": 105,
   "id": "6beb0f3d",
   "metadata": {},
   "outputs": [],
   "source": [
    "# # creating table\n",
    "# sql = \"\"\"CREATE TABLE STUDENT (\n",
    "#                 NAME VARCHAR(20) NOT NULL,\n",
    "#                 BRANCH VARCHAR(50),\n",
    "#                 ROLL INT NOT NULL,\n",
    "#                 SECTION VARCHAR(5),\n",
    "#                 AGE INT\n",
    "#                 )\"\"\""
   ]
  },
  {
   "cell_type": "code",
   "execution_count": 106,
   "id": "7b981b6e",
   "metadata": {},
   "outputs": [],
   "source": [
    "#cursor.execute(sql)"
   ]
  },
  {
   "cell_type": "code",
   "execution_count": 107,
   "id": "18424981",
   "metadata": {},
   "outputs": [],
   "source": [
    "conn.close()"
   ]
  },
  {
   "cell_type": "code",
   "execution_count": 108,
   "id": "159464e9",
   "metadata": {},
   "outputs": [],
   "source": [
    "conn,cursor = connect_database()"
   ]
  },
  {
   "cell_type": "code",
   "execution_count": 122,
   "id": "087a6619",
   "metadata": {},
   "outputs": [],
   "source": [
    "sql = \"INSERT INTO STUDENT (NAME, BRANCH, ROLL, SECTION, AGE) VALUES (%s, %s, %s, %s, %s)\""
   ]
  },
  {
   "cell_type": "code",
   "execution_count": 112,
   "id": "e9372dce",
   "metadata": {},
   "outputs": [],
   "source": [
    "attrValues = (\"Rituraj Saha\", \"Information Technology\", \"1706256\", \"IT-3\", \"20\")\n",
    "cursor.execute(sql, attrValues)"
   ]
  },
  {
   "cell_type": "code",
   "execution_count": 115,
   "id": "dfcacd79",
   "metadata": {},
   "outputs": [],
   "source": [
    "conn.close()"
   ]
  },
  {
   "cell_type": "code",
   "execution_count": 121,
   "id": "72ccf2fb",
   "metadata": {},
   "outputs": [],
   "source": [
    "conn,cursor = connect_database()"
   ]
  },
  {
   "cell_type": "code",
   "execution_count": 123,
   "id": "178eb0f6",
   "metadata": {},
   "outputs": [],
   "source": [
    "attrValues = (\"Rituraj Saha\", \"Information Technology\", \"1706256\", \"IT-3\", \"20\")\n",
    "cursor.execute(sql, attrValues)\n",
    "\n",
    "attrValues = (\"Ritam Barik\", \"Information Technology\", \"1706254\", \"IT-3\", \"21\")\n",
    "cursor.execute(sql, attrValues)\n",
    "\n",
    "attrValues = (\"Rishi Kumar\", \"Information Technology\", \"1706253\", \"IT-3\", \"21\")\n",
    "cursor.execute(sql, attrValues)\n"
   ]
  },
  {
   "cell_type": "code",
   "execution_count": 125,
   "id": "e0b5cd3f",
   "metadata": {},
   "outputs": [],
   "source": [
    "sql = 'SELECT * FROM STUDENT'"
   ]
  },
  {
   "cell_type": "code",
   "execution_count": 126,
   "id": "85f1b495",
   "metadata": {},
   "outputs": [],
   "source": [
    "cursor.execute(sql)"
   ]
  },
  {
   "cell_type": "code",
   "execution_count": 127,
   "id": "e6b5bd35",
   "metadata": {},
   "outputs": [
    {
     "name": "stdout",
     "output_type": "stream",
     "text": [
      "('Rituraj Saha', 'Information Technology', 1706256, 'IT-3', 20)\n",
      "('Ritam Barik', 'Information Technology', 1706254, 'IT-3', 21)\n",
      "('Rishi Kumar', 'Information Technology', 1706253, 'IT-3', 21)\n"
     ]
    }
   ],
   "source": [
    "myresult = cursor.fetchall()\n",
    "for i in myresult:\n",
    "    print(i)"
   ]
  },
  {
   "cell_type": "code",
   "execution_count": 128,
   "id": "8e705865",
   "metadata": {},
   "outputs": [],
   "source": [
    "conn.commit()"
   ]
  },
  {
   "cell_type": "code",
   "execution_count": 129,
   "id": "061b9add",
   "metadata": {},
   "outputs": [],
   "source": [
    "conn.close()"
   ]
  },
  {
   "cell_type": "code",
   "execution_count": 140,
   "id": "46664c89",
   "metadata": {},
   "outputs": [],
   "source": [
    "conn,cursor = connect_database()"
   ]
  },
  {
   "cell_type": "code",
   "execution_count": 133,
   "id": "fc48c795",
   "metadata": {},
   "outputs": [],
   "source": [
    "#cursor.execute(\"DROP TABLE PHONE_RECORD\") ---> gives an error because table do not exist\n",
    "cursor.execute(\"DROP TABLE IF EXISTS PHONE_RECORD\") # --> does not give error\n"
   ]
  },
  {
   "cell_type": "code",
   "execution_count": 141,
   "id": "5e4d2848",
   "metadata": {},
   "outputs": [],
   "source": [
    "conn,cursor = connect_database()"
   ]
  },
  {
   "cell_type": "code",
   "execution_count": 142,
   "id": "f8ee9903",
   "metadata": {},
   "outputs": [],
   "source": [
    "# creating table\n",
    "sql = \"\"\"CREATE TABLE PHONE_RECORD (\n",
    "                NAME VARCHAR(20) NOT NULL,\n",
    "                PHONE VARCHAR(10) NOT NULL\n",
    "                )\"\"\""
   ]
  },
  {
   "cell_type": "code",
   "execution_count": 146,
   "id": "36cc174a",
   "metadata": {},
   "outputs": [],
   "source": [
    "#cursor.execute(sql)\n"
   ]
  },
  {
   "cell_type": "code",
   "execution_count": 147,
   "id": "e62818be",
   "metadata": {},
   "outputs": [],
   "source": [
    "conn.commit()"
   ]
  },
  {
   "cell_type": "code",
   "execution_count": 148,
   "id": "f1fb280a",
   "metadata": {},
   "outputs": [],
   "source": [
    "conn.close()"
   ]
  },
  {
   "cell_type": "code",
   "execution_count": 149,
   "id": "96c20be5",
   "metadata": {},
   "outputs": [],
   "source": [
    "conn,cursor = connect_database()"
   ]
  },
  {
   "cell_type": "code",
   "execution_count": 151,
   "id": "8abadbc1",
   "metadata": {},
   "outputs": [],
   "source": [
    "query = \"INSERT INTO PHONE_RECORD (NAME, PHONE) VALUES (%s, %s)\"\n",
    "attrValues = (\"Rituraj Saha\", \"9163089075\")\n",
    "cursor.execute(query, attrValues)"
   ]
  },
  {
   "cell_type": "code",
   "execution_count": 152,
   "id": "e46dfb79",
   "metadata": {},
   "outputs": [],
   "source": [
    "conn.commit()"
   ]
  },
  {
   "cell_type": "code",
   "execution_count": 153,
   "id": "61f78f9f",
   "metadata": {},
   "outputs": [],
   "source": [
    "conn,cursor = connect_database()"
   ]
  },
  {
   "cell_type": "code",
   "execution_count": 156,
   "id": "c6b00fd2",
   "metadata": {},
   "outputs": [],
   "source": [
    "sql =\"UPDATE STUDENT SET AGE = 23 WHERE Name ='Rishi Kumar'\"\n"
   ]
  },
  {
   "cell_type": "code",
   "execution_count": 157,
   "id": "c07c4e58",
   "metadata": {},
   "outputs": [],
   "source": [
    "cursor.execute(sql)"
   ]
  },
  {
   "cell_type": "code",
   "execution_count": 159,
   "id": "8abf280e",
   "metadata": {},
   "outputs": [],
   "source": [
    "conn.commit()"
   ]
  },
  {
   "cell_type": "code",
   "execution_count": 161,
   "id": "def48d39",
   "metadata": {},
   "outputs": [],
   "source": [
    "cursor.execute('SHOW TABLES')"
   ]
  },
  {
   "cell_type": "code",
   "execution_count": 162,
   "id": "dd946ce8",
   "metadata": {},
   "outputs": [
    {
     "name": "stdout",
     "output_type": "stream",
     "text": [
      "('PHONE_RECORD',)\n",
      "('STUDENT',)\n",
      "('STUDENTS',)\n"
     ]
    }
   ],
   "source": [
    "myresult = cursor.fetchall()\n",
    "for i in myresult:\n",
    "    print(i)"
   ]
  },
  {
   "cell_type": "code",
   "execution_count": null,
   "id": "689512d5",
   "metadata": {},
   "outputs": [],
   "source": []
  }
 ],
 "metadata": {
  "kernelspec": {
   "display_name": "Python 3 (ipykernel)",
   "language": "python",
   "name": "python3"
  },
  "language_info": {
   "codemirror_mode": {
    "name": "ipython",
    "version": 3
   },
   "file_extension": ".py",
   "mimetype": "text/x-python",
   "name": "python",
   "nbconvert_exporter": "python",
   "pygments_lexer": "ipython3",
   "version": "3.9.12"
  }
 },
 "nbformat": 4,
 "nbformat_minor": 5
}
