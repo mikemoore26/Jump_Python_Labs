{
 "cells": [
  {
   "cell_type": "markdown",
   "metadata": {},
   "source": [
    "####  1.1Problem\n",
    "You have an N-element tuple or sequence that you would like to unpack into a collection of N variables.\n",
    "- if there is more variables than return values .you ay get an rerror\n",
    "- Unpacking actually works with any object that happens to be iterable, not just tuples or lists.\n"
   ]
  },
  {
   "cell_type": "code",
   "execution_count": 2,
   "metadata": {},
   "outputs": [
    {
     "name": "stdout",
     "output_type": "stream",
     "text": [
      "a = the letter a\n",
      "b = the letter b\n"
     ]
    }
   ],
   "source": [
    "pack = ('the letter a','the letter b')\n",
    "a, b = pack\n",
    "print(f'a = {a}\\nb = {b}')"
   ]
  },
  {
   "cell_type": "markdown",
   "metadata": {},
   "source": [
    "#### 1.2 Problem\n",
    "You need to unpack N elements from an iterable, but the iterable may be longer than N elements, causing a “too many values to unpack” exception.\n",
    "Solution\n",
    "-  the * sign grabs every elementfrom giving pack til next\n",
    "- * means it expects a list\n",
    "- * is used when the size or cintent of the list youre unpacking is unknown\n",
    "- list unpacking * grav everything in the list that not accounted for"
   ]
  },
  {
   "cell_type": "code",
   "execution_count": 15,
   "metadata": {},
   "outputs": [
    {
     "name": "stdout",
     "output_type": "stream",
     "text": [
      "a: [1, 2, 3, 4, 5, 'dsjf']\n",
      "b: [1, 2, 3, 4, 5]\n",
      "c: dsjf\n",
      "a2: 1\n",
      "b: [2, 3, 4, 5]\n",
      "c: dsjf\n",
      "first:  FIRST\n",
      "mid:  [2, '3', 4]\n",
      "last:  rotten egg\n",
      "*******\n",
      "list_num: [1, 2, 3, 4, 5, 6, 7, 10, 100]\n",
      "head: 1\n",
      "sum of tail 137\n",
      "*******\n",
      "*******\n",
      "list_num: [3]\n",
      "head: 3\n",
      "sum of tail 0\n",
      "*******\n"
     ]
    },
    {
     "data": {
      "text/plain": [
       "3"
      ]
     },
     "execution_count": 15,
     "metadata": {},
     "output_type": "execute_result"
    }
   ],
   "source": [
    "a = [1,2,3,4,5,'dsjf']\n",
    "print('a:', a)\n",
    "*b,c = a\n",
    "print('b:',b)\n",
    "print('c:',c)\n",
    "\n",
    "a1,*b,c = a\n",
    "print('a2:',a1)\n",
    "print('b:',b)\n",
    "print('c:',c)\n",
    "\n",
    "new_list = ['FIRST',2,'3',2*2, 'rotten egg']\n",
    "first , *mid, last = new_list\n",
    "print('first: ', first)\n",
    "print('mid: ', mid)\n",
    "print('last: ', last)\n",
    "l = [1,2,3,4,5,6,7,10,100]\n",
    "def summ(list_num):\n",
    "    head, *tail = list_num\n",
    "    print(\"*\"*7)\n",
    "    print('list_num:',list_num)\n",
    "    print('head:' , head)\n",
    "    print('sum of tail', sum(tail))\n",
    "    print(\"*\"*7)\n",
    "    return head + sum(tail) if tail else head\n",
    "\n",
    "summ(l)\n",
    "summ([3])"
   ]
  },
  {
   "cell_type": "markdown",
   "metadata": {},
   "source": [
    "#### 1.3 Problem\n",
    "You want to keep a limited history of the last few items seen during iteration or during some other kind of processing.\n",
    "\n",
    "- When writing code to search for items, it is common to use a generator function involving yield, \n",
    "- This decouples the process of searching from the code that uses the results. If you’re new to generators, see Recipe 4.3.\n",
    "- Using deque(maxlen=N) creates a fixed-sized queue. When new items are added and the queue is full, the oldest item is automatically removed. \n",
    "- deque methods -> append(),appendleft(),popleft(),pop()\n"
   ]
  },
  {
   "cell_type": "code",
   "execution_count": 22,
   "metadata": {},
   "outputs": [
    {
     "name": "stdout",
     "output_type": "stream",
     "text": [
      "q:  deque([2, 22, 33], maxlen=3)\n",
      "q:  deque([22, 33, 24], maxlen=3)\n"
     ]
    }
   ],
   "source": [
    "from collections import deque\n",
    "\n",
    "def search(lines, pattern, history=5): \n",
    "    previous_lines = deque(maxlen=history) \n",
    "    for line in lines:\n",
    "        if pattern in line:\n",
    "            yield line, previous_lines\n",
    "        previous_lines.append(line)\n",
    "    \n",
    "for line, prevlines in search(['python is fun','java is the way it is'], 'python', 5): \n",
    "    for pline in prevlines:\n",
    "        print(pline, end='') \n",
    "        print(line, end='') \n",
    "        print('-'*20)\n",
    "\n",
    "q = deque(maxlen=3)\n",
    "q.append(2)\n",
    "q.append(22)\n",
    "q.append(33)\n",
    "print('q: ',q)\n",
    "q.append(24)\n",
    "print('q: ',q)"
   ]
  },
  {
   "cell_type": "markdown",
   "metadata": {},
   "source": [
    "#### 1.4 Problem\n",
    "You want to make a list of the largest or smallest N items in a collection.\n",
    "\n",
    "- heapq module has two functions—nlargest() and nsmallest()— best for finding multiple numbers otherwise better to use the min() / max()\n",
    "- key=lambda s: s['price'])-> perform the function on a specific column\n",
    "- heapq automatically order a list\n",
    "- The most important feature of a heap is that heap[0] is always the smallest item\n",
    "- O(log N) where N is the size of the heap"
   ]
  },
  {
   "cell_type": "code",
   "execution_count": 31,
   "metadata": {},
   "outputs": [
    {
     "name": "stdout",
     "output_type": "stream",
     "text": [
      "nums [1, 8, 2, 23, 7, -4, 18, 23, 42, 37, 278]\n",
      "n-largest [278, 42, 37]\n",
      "n-smallest [-4, 1, 2]\n",
      "new_nums [1, 8, 2, 23, 7, -4, 18, 23, 42, 37, 278]\n",
      "new_nums heapq [-4, 7, 1, 23, 8, 2, 18, 23, 42, 37, 278]\n",
      "pop:  -4\n",
      "new_nums after pop 1 [1, 7, 2, 23, 8, 278, 18, 23, 42, 37]\n",
      "pop:  1\n",
      "new_nums after pop 2 [2, 7, 18, 23, 8, 278, 37, 23, 42]\n",
      "pop:  2\n",
      "new_nums after pop 3 [7, 8, 18, 23, 42, 278, 37, 23]\n"
     ]
    }
   ],
   "source": [
    "import heapq\n",
    "\n",
    "nums = [1, 8, 2, 23, 7, -4, 18, 23, 42, 37, 278]\n",
    "print('nums', nums)\n",
    "print('n-largest',heapq.nlargest(3, nums)) \n",
    "print('n-smallest',heapq.nsmallest(3, nums))\n",
    "new_nums = list(nums)\n",
    "print('new_nums',new_nums)\n",
    "heapq.heapify(new_nums)\n",
    "print('new_nums heapq',new_nums)\n",
    "print('pop: ', heapq.heappop(new_nums))\n",
    "print('new_nums after pop 1',new_nums)\n",
    "print('pop: ', heapq.heappop(new_nums))\n",
    "print('new_nums after pop 2',new_nums)\n",
    "print('pop: ', heapq.heappop(new_nums))\n",
    "print('new_nums after pop 3',new_nums)\n",
    "\n"
   ]
  },
  {
   "cell_type": "markdown",
   "metadata": {},
   "source": [
    "#### 1.5 Problem\n",
    "You want to implement a queue that sorts items by a given priority and always returns the item with the highest\n",
    "priority on each pop operation.\n",
    "\n",
    "- pop() operation returned the item with the highest priority.\n",
    "- e two items with the same priority were returned in the same order in which they were inserted into the queue.\n",
    "- The priority value is negated to get the queue to sort items from highest priority to lowest priority. This is opposite of the normal heap ordering, which sorts from lowest to highest value.\n",
    "- If you make (priority, item) tuples, they can be compared as long as the priorities are different. However, if two tuples with equal priorities are compared, the comparison fails as before.\n",
    "- By introducing the extra index and making (priority, index, item) tuples, you avoid this problem entirely since no two tuples will ever have the same value for index (and Python never bothers to compare the remaining tuple values once the result of com parison can be determined):"
   ]
  },
  {
   "cell_type": "code",
   "execution_count": 33,
   "metadata": {},
   "outputs": [
    {
     "name": "stdout",
     "output_type": "stream",
     "text": [
      "Item('bar')\n",
      "Item('spam')\n",
      "Item('foo')\n",
      "Item('grok')\n"
     ]
    }
   ],
   "source": [
    "class PriorityQueue:\n",
    "    def __init__(self):\n",
    "        self._queue = []\n",
    "        self._index = 0\n",
    "        \n",
    "    def push(self, item, priority):\n",
    "        heapq.heappush(self._queue, (-priority, self._index, item))\n",
    "        self._index += 1\n",
    "    def pop(self):\n",
    "        return heapq.heappop(self._queue)[-1]\n",
    "    \n",
    "class Item:\n",
    "    def __init__(self, name):\n",
    "        self.name = name\n",
    "    def __repr__(self):\n",
    "        return 'Item({!r})'.format(self.name)\n",
    "    \n",
    "q = PriorityQueue()\n",
    "q.push(Item('foo'), 1)\n",
    "q.push(Item('bar'), 5)\n",
    "q.push(Item('spam'), 4)\n",
    "q.push(Item('grok'), 1)\n",
    "print(q.pop())\n",
    "print(q.pop())\n",
    "print(q.pop())\n",
    "print(q.pop())"
   ]
  },
  {
   "cell_type": "markdown",
   "metadata": {},
   "source": [
    "#1.6 Problem\n",
    "You want to make a dictionary that maps keys to more than one value (a so-called “multidict”).\n",
    "\n",
    "- A dictionary is a mapping where each key is mapped to a single value.\n",
    "- defaultdict is that it automatically initializes\n",
    "- One caution with defaultdict is that it will automatically create dictionary entries for keys accessed later on\n",
    "- setdefault() on an ordinary dictionary"
   ]
  },
  {
   "cell_type": "code",
   "execution_count": 39,
   "metadata": {},
   "outputs": [
    {
     "name": "stdout",
     "output_type": "stream",
     "text": [
      "d {'a': [1, 2, 3, 4, 5], 'b': [11, 22, 33, 44, 55], 'c': [111, 222, 333, 444, 555]}\n",
      "de init defaultdict(<class 'list'>, {})\n",
      "de defaultdict(<class 'list'>, {'a': [1, 2], 'b': [1]})\n"
     ]
    }
   ],
   "source": [
    "from collections import defaultdict\n",
    "\n",
    "d = {\n",
    "    'a':[1,2,3,4,5],\n",
    "    'b':[11,22,33,44,55],\n",
    "    'c':[111,222,333,444,555]\n",
    "}\n",
    "print('d' , d)\n",
    "\n",
    "de = defaultdict(list)\n",
    "print('de init', de)\n",
    "de['a'].append(1)\n",
    "de['a'].append(2)\n",
    "de['b'].append(1)\n",
    "print('de', de)\n"
   ]
  },
  {
   "cell_type": "markdown",
   "metadata": {},
   "source": [
    "#### 1.7 Problem\n",
    "You want to create a dictionary, and you also want to control the order of items when\n",
    "iterating or serializing\n",
    "\n",
    "- To control the order of items in a dictionary, you can use an OrderedDict from the collections module.\n",
    "- An OrderedDict can be particularly useful when you want to build a mapping that you may want to later serialize or encode into a different format. For example, if you want to precisely control the order of fields appearing in a JSON encoding, first building the data in an OrderedDict will do the trick:\n",
    "- stays in order that it was inserted in\n",
    "- \n"
   ]
  },
  {
   "cell_type": "code",
   "execution_count": 42,
   "metadata": {},
   "outputs": [
    {
     "data": {
      "text/plain": [
       "OrderedDict([('foo', 15), ('bar', 2), ('spam', 35), ('grok', 4)])"
      ]
     },
     "execution_count": 42,
     "metadata": {},
     "output_type": "execute_result"
    }
   ],
   "source": [
    "from collections import OrderedDict\n",
    "d = OrderedDict()\n",
    "d['foo'] = 15\n",
    "d['bar'] = 2\n",
    "d['spam'] = 35\n",
    "d['grok'] = 4\n",
    "d"
   ]
  },
  {
   "cell_type": "markdown",
   "metadata": {},
   "source": [
    "#### 1.8 Problem\n",
    "You want to perform various calculations (e.g., minimum value, maximum value, sort‐\n",
    "ing, etc.) on a dictionary of data.\n",
    "\n",
    "- use zip to covert the dict to a tuple then you can do calculations\n",
    "- When doing these calculations, be aware that zip() creates an iterator that can only be consumed once. \n",
    "- You can get the key corresponding to the min or max value if you supply a key function to min() and max()."
   ]
  },
  {
   "cell_type": "code",
   "execution_count": 52,
   "metadata": {},
   "outputs": [
    {
     "name": "stdout",
     "output_type": "stream",
     "text": [
      "('AAPL', 612.78)\n",
      "('IBM', 205.55)\n",
      "min:  FB\n",
      "max:  AAPL\n",
      "look up (min):  10.75\n"
     ]
    }
   ],
   "source": [
    "prices = {\n",
    " 'ACME': 45.23,\n",
    " 'AAPL': 612.78,\n",
    " 'IBM': 205.55,\n",
    " 'HPQ': 37.20,\n",
    " 'FB': 10.75\n",
    "}\n",
    "\n",
    "p = zip(prices.keys(),prices.values())\n",
    "print(min(p))\n",
    "p = zip(prices.keys(),prices.values())\n",
    "print(max(p))\n",
    "\n",
    "print('min: ' ,min(prices, key = lambda x: prices[x]))\n",
    "print('max: ' ,max(prices, key = lambda x: prices[x]))\n",
    "print('look up (min): ', prices[min(prices, key= lambda x: prices[x])])"
   ]
  },
  {
   "cell_type": "markdown",
   "metadata": {},
   "source": [
    "#### 1.9 Problem\n",
    "You have two dictionaries and want to find out what they might have in common (same keys, same values, etc.).\n",
    "\n",
    "- Find keys in common ->a.keys() & b.keys() # { 'x', 'y' }\n",
    "- Find keys in a that are not in b -> a.keys() - b.keys() # { 'z' }\n",
    "- Find (key,value) pairs in common -> a.items() & b.items() # { ('y', 2) }"
   ]
  },
  {
   "cell_type": "code",
   "execution_count": 57,
   "metadata": {},
   "outputs": [
    {
     "name": "stdout",
     "output_type": "stream",
     "text": [
      "a & b: keys {'c'}\n",
      "a - b: keys {'b', 'a'}\n",
      "a & b: items {('c', 3)}\n"
     ]
    }
   ],
   "source": [
    "dict_a = {\n",
    "    'a': 1,\n",
    "    'b': 2,\n",
    "    'c': 3\n",
    "}\n",
    "\n",
    "dict_b = {\n",
    "    'x': 10,\n",
    "    'y': 2,\n",
    "    'c': 3\n",
    "}\n",
    "print('a & b: keys' ,dict_a.keys() & dict_b.keys())\n",
    "print('a - b: keys' ,dict_a.keys() - dict_b.keys())\n",
    "print('a & b: items' ,dict_a.items() & dict_b.items())\n",
    "\n",
    "\n"
   ]
  },
  {
   "cell_type": "markdown",
   "metadata": {},
   "source": [
    "#### 1.10 Problem\n",
    "You want to eliminate the duplicate values in a sequence, but preserve the order of the remaining items.\n",
    "\n"
   ]
  },
  {
   "cell_type": "code",
   "execution_count": null,
   "metadata": {},
   "outputs": [],
   "source": []
  },
  {
   "cell_type": "code",
   "execution_count": null,
   "metadata": {},
   "outputs": [],
   "source": []
  },
  {
   "cell_type": "code",
   "execution_count": null,
   "metadata": {},
   "outputs": [],
   "source": []
  },
  {
   "cell_type": "code",
   "execution_count": null,
   "metadata": {},
   "outputs": [],
   "source": []
  },
  {
   "cell_type": "code",
   "execution_count": null,
   "metadata": {},
   "outputs": [],
   "source": []
  },
  {
   "cell_type": "code",
   "execution_count": null,
   "metadata": {},
   "outputs": [],
   "source": []
  },
  {
   "cell_type": "code",
   "execution_count": null,
   "metadata": {},
   "outputs": [],
   "source": []
  },
  {
   "cell_type": "code",
   "execution_count": null,
   "metadata": {},
   "outputs": [],
   "source": []
  },
  {
   "cell_type": "code",
   "execution_count": null,
   "metadata": {},
   "outputs": [],
   "source": []
  }
 ],
 "metadata": {
  "kernelspec": {
   "display_name": "Python 3",
   "language": "python",
   "name": "python3"
  },
  "language_info": {
   "codemirror_mode": {
    "name": "ipython",
    "version": 3
   },
   "file_extension": ".py",
   "mimetype": "text/x-python",
   "name": "python",
   "nbconvert_exporter": "python",
   "pygments_lexer": "ipython3",
   "version": "3.9.0"
  }
 },
 "nbformat": 4,
 "nbformat_minor": 4
}
