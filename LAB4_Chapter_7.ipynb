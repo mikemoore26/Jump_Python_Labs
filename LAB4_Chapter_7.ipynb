{
 "cells": [
  {
   "cell_type": "markdown",
   "metadata": {},
   "source": [
    "# LAB 4 ~ CHapter 7( FUNCTIONS)\n",
    "\n",
    "The goal of this chapter is to present some more advanced and unusual function definition and usage patterns.\n",
    "\n"
   ]
  },
  {
   "cell_type": "markdown",
   "metadata": {},
   "source": [
    "#### 7.1 Writing functions that accept any number args\n",
    "\n",
    "- use the * arguement befor a variable name\n",
    "- ** is used for keyword arguements\n",
    "- * has to be the last positional arguement\n",
    "- ** kwargs has to be. the last arguement"
   ]
  },
  {
   "cell_type": "code",
   "execution_count": 2,
   "metadata": {},
   "outputs": [
    {
     "name": "stdout",
     "output_type": "stream",
     "text": [
      "avg:  35.375\n"
     ]
    }
   ],
   "source": [
    "def avg(first, *rest):\n",
    "    return (first + sum(rest)) /(1 + len(rest))\n",
    "\n",
    "print('avg: ', avg(10,100,20,45,2,53,31,22) )"
   ]
  },
  {
   "cell_type": "markdown",
   "metadata": {},
   "source": [
    "#### 7.2 Write. a function that oly accept certain keywords\n",
    "\n",
    "- you can put a positional arguement after a * arguement\n"
   ]
  },
  {
   "cell_type": "markdown",
   "metadata": {},
   "source": [
    "#### 7.3 attaching addition metadata to  a function\n",
    "\n",
    "- annootatations  gives developers. a. usefile hinThere  on how. to use. a function\n",
    "- function(var1: datatype , var2: datatype)  -> return. type\n",
    "- does not change the way python is ran"
   ]
  },
  {
   "cell_type": "code",
   "execution_count": 4,
   "metadata": {},
   "outputs": [],
   "source": [
    "def summ(x:  int , y : int) -> int:\n",
    "    return x + y"
   ]
  },
  {
   "cell_type": "code",
   "execution_count": 5,
   "metadata": {},
   "outputs": [
    {
     "data": {
      "text/plain": [
       "4"
      ]
     },
     "execution_count": 5,
     "metadata": {},
     "output_type": "execute_result"
    }
   ],
   "source": [
    "summ(2,2)"
   ]
  },
  {
   "cell_type": "markdown",
   "metadata": {},
   "source": [
    "#### 7.4 returning multiple. values \n",
    "\n",
    "- return value with multiple statement returns a tuple and can be unpacked\n",
    "- , makes a variable a tuple not the ()"
   ]
  },
  {
   "cell_type": "code",
   "execution_count": 7,
   "metadata": {},
   "outputs": [
    {
     "data": {
      "text/plain": [
       "(3, 2, 'dsds')"
      ]
     },
     "execution_count": 7,
     "metadata": {},
     "output_type": "execute_result"
    }
   ],
   "source": [
    "def ret_values(a,b,c):\n",
    "    return a , b , c\n",
    "\n",
    "ret_values(3,2,'dsds')\n",
    "\n"
   ]
  },
  {
   "cell_type": "markdown",
   "metadata": {},
   "source": [
    "#### 7.5 define function with default values\n",
    "- define the default variable last in the perimeter\n",
    "- if you use a mutable datatype use none for default\n",
    "- default arguement is set when written so cant change later \n",
    "- it should be immutable"
   ]
  },
  {
   "cell_type": "code",
   "execution_count": 32,
   "metadata": {},
   "outputs": [
    {
     "name": "stdout",
     "output_type": "stream",
     "text": [
      "a: 2 | b: 3\n",
      "a: 4 | b: 8\n",
      "a: 2 | b: 3\n",
      "a: 4 | b: None\n",
      "a: 2 | b: []\n",
      "a: 3 | b: [26, 'NY']\n"
     ]
    },
    {
     "data": {
      "text/plain": [
       "[26, 'NY']"
      ]
     },
     "execution_count": 32,
     "metadata": {},
     "output_type": "execute_result"
    }
   ],
   "source": [
    "def span(a,b=8):\n",
    "    print(f'a: {a} | b: {b}')\n",
    "    \n",
    "span(2,3)\n",
    "span(4)\n",
    "\n",
    "def span(a,b=None):\n",
    "    print(f'a: {a} | b: {b}')\n",
    "    \n",
    "span(2,3)\n",
    "span(4)\n",
    "\n",
    "def span(a,b=[]):\n",
    "    print(f'a: {a} | b: {b}')\n",
    "    return b\n",
    "    \n",
    "b = span(2)\n",
    "b.append(26)\n",
    "b.append('NY')\n",
    "span(3)"
   ]
  },
  {
   "cell_type": "markdown",
   "metadata": {},
   "source": [
    "#### 7.6 anonymous Functions\n",
    "\n",
    "- lambda expressions\n",
    "- used for sorting and data reduction\n"
   ]
  },
  {
   "cell_type": "code",
   "execution_count": 33,
   "metadata": {},
   "outputs": [
    {
     "data": {
      "text/plain": [
       "5"
      ]
     },
     "execution_count": 33,
     "metadata": {},
     "output_type": "execute_result"
    }
   ],
   "source": [
    "summ = lambda a,b : a + b\n",
    "\n",
    "summ(2,3)"
   ]
  },
  {
   "cell_type": "markdown",
   "metadata": {},
   "source": [
    "#### 7.7 extract data\n",
    "\n",
    "- lambda expression are bound at runtime not writting time \n",
    "- if you want a value to caught at def you have to default value it "
   ]
  },
  {
   "cell_type": "code",
   "execution_count": 42,
   "metadata": {},
   "outputs": [
    {
     "name": "stdout",
     "output_type": "stream",
     "text": [
      "40\n"
     ]
    },
    {
     "data": {
      "text/plain": [
       "20"
      ]
     },
     "execution_count": 42,
     "metadata": {},
     "output_type": "execute_result"
    }
   ],
   "source": [
    "y = 10 \n",
    "a = lambda x,y=y: x*y \n",
    "\n",
    "print(a(4))\n",
    "y = 5 \n",
    "b = lambda x: x*y\n",
    "b(4)\n"
   ]
  },
  {
   "cell_type": "code",
   "execution_count": null,
   "metadata": {},
   "outputs": [],
   "source": []
  },
  {
   "cell_type": "markdown",
   "metadata": {},
   "source": [
    "### 7.8 making an n-arguement callable without n arguements\n",
    "\n",
    "You have a callable that you would like to use with some other Python code, possibly as a callback function or handler, but it takes too many arguments and causes an exception when called.\n",
    "\n",
    "-functools partials"
   ]
  },
  {
   "cell_type": "code",
   "execution_count": 49,
   "metadata": {},
   "outputs": [
    {
     "name": "stdout",
     "output_type": "stream",
     "text": [
      "33 3 4 2\n",
      "3 4 2 33\n"
     ]
    }
   ],
   "source": [
    "from functools import partial\n",
    "\n",
    "def spam(a,b,c,d):\n",
    "    print(a,b,c,d)\n",
    "    \n",
    "s1= partial(spam,33)\n",
    "s1(3,4,2)\n",
    "\n",
    "s1= partial(spam,d=33)\n",
    "s1(3,4,2)"
   ]
  },
  {
   "cell_type": "markdown",
   "metadata": {},
   "source": [
    "#### 7.9 classes with single methods\n",
    "\n",
    "- use closures\n",
    "- classes are only nessary when dealing with a state of an object"
   ]
  },
  {
   "cell_type": "code",
   "execution_count": 54,
   "metadata": {},
   "outputs": [],
   "source": [
    "# from urllib.request import urlopen\n",
    "# class UrlTemplate:\n",
    "#     def __init__(self, template):\n",
    "#         self.template = template \n",
    "#     def open(self, **kwargs):\n",
    "#         return urlopen(self.template.format_map(kwargs))\n",
    "    \n",
    "# # Example use. Download stock data from yahoo\n",
    "# yahoo = UrlTemplate('http://finance.yahoo.com/d/quotes.csv?s={names}&f={fields}') \n",
    "# for line in yahoo.open(names='IBM,AAPL,FB', fields='sl1c1v'):\n",
    "#     print(line.decode('utf-8'))"
   ]
  },
  {
   "cell_type": "code",
   "execution_count": null,
   "metadata": {},
   "outputs": [],
   "source": []
  },
  {
   "cell_type": "markdown",
   "metadata": {},
   "source": [
    "#### 7.12 \n",
    "- nonlocal declarations make it possible to write functions that change inner variables. \n",
    "- non local is like self"
   ]
  },
  {
   "cell_type": "code",
   "execution_count": 57,
   "metadata": {},
   "outputs": [],
   "source": [
    "def sample():\n",
    "    n=0\n",
    "        # Closure function\n",
    "    def func(): \n",
    "        print('n=', n)\n",
    "        # Accessor methods for n\n",
    "    def get_n(): \n",
    "        return n\n",
    "    def set_n(value): \n",
    "        nonlocal n\n",
    "        n = value\n",
    "    # Attach as function attributes\n",
    "    func.get_n = get_n \n",
    "    func.set_n = set_n \n",
    "    return func"
   ]
  },
  {
   "cell_type": "code",
   "execution_count": 58,
   "metadata": {},
   "outputs": [
    {
     "name": "stdout",
     "output_type": "stream",
     "text": [
      "0\n",
      "100\n"
     ]
    }
   ],
   "source": [
    "sam = sample()\n",
    "print(sam.get_n())\n",
    "sam.set_n(100)\n",
    "print(sam.get_n())\n"
   ]
  },
  {
   "cell_type": "code",
   "execution_count": null,
   "metadata": {},
   "outputs": [],
   "source": []
  }
 ],
 "metadata": {
  "kernelspec": {
   "display_name": "Python 3",
   "language": "python",
   "name": "python3"
  },
  "language_info": {
   "codemirror_mode": {
    "name": "ipython",
    "version": 3
   },
   "file_extension": ".py",
   "mimetype": "text/x-python",
   "name": "python",
   "nbconvert_exporter": "python",
   "pygments_lexer": "ipython3",
   "version": "3.9.0"
  }
 },
 "nbformat": 4,
 "nbformat_minor": 4
}
